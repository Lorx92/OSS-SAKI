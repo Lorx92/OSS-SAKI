{
 "cells": [
  {
   "cell_type": "code",
   "execution_count": 1,
   "metadata": {},
   "outputs": [],
   "source": [
    "import numpy\n",
    "import pandas\n",
    "import sklearn\n",
    "import sklearn.preprocessing\n",
    "import sklearn.feature_extraction\n",
    "import sklearn.model_selection\n",
    "import sklearn.naive_bayes"
   ]
  },
  {
   "cell_type": "markdown",
   "metadata": {},
   "source": [
    "# Import from CSV"
   ]
  },
  {
   "cell_type": "code",
   "execution_count": 2,
   "metadata": {},
   "outputs": [
    {
     "data": {
      "text/html": [
       "<div>\n",
       "<style scoped>\n",
       "    .dataframe tbody tr th:only-of-type {\n",
       "        vertical-align: middle;\n",
       "    }\n",
       "\n",
       "    .dataframe tbody tr th {\n",
       "        vertical-align: top;\n",
       "    }\n",
       "\n",
       "    .dataframe thead th {\n",
       "        text-align: right;\n",
       "    }\n",
       "</style>\n",
       "<table border=\"1\" class=\"dataframe\">\n",
       "  <thead>\n",
       "    <tr style=\"text-align: right;\">\n",
       "      <th></th>\n",
       "      <th>Buchungstag</th>\n",
       "      <th>Buchungstext</th>\n",
       "      <th>Verwendungszweck</th>\n",
       "      <th>Beguenstigter/Zahlungspflichtiger</th>\n",
       "      <th>Betrag</th>\n",
       "      <th>label</th>\n",
       "    </tr>\n",
       "  </thead>\n",
       "  <tbody>\n",
       "    <tr>\n",
       "      <th>0</th>\n",
       "      <td>2016-07-28</td>\n",
       "      <td>Lohn / Gehalt</td>\n",
       "      <td>Gehalt Adorsys GmbH &amp; Co. KG End-To-End-Ref.: ...</td>\n",
       "      <td>Adorsys GmbH &amp; Co. KG</td>\n",
       "      <td>2000.0</td>\n",
       "      <td>income</td>\n",
       "    </tr>\n",
       "    <tr>\n",
       "      <th>1</th>\n",
       "      <td>2016-07-27</td>\n",
       "      <td>Miete</td>\n",
       "      <td>Byladem1Sbt De12773501123456789889 Miete Beuth...</td>\n",
       "      <td>Georg Tasche</td>\n",
       "      <td>-670.0</td>\n",
       "      <td>living</td>\n",
       "    </tr>\n",
       "    <tr>\n",
       "      <th>2</th>\n",
       "      <td>2016-07-21</td>\n",
       "      <td>Bargeld</td>\n",
       "      <td>21.07/16.34Uhr Nuernberg All Eur 70,00 Geb.Eur...</td>\n",
       "      <td>Bargeld</td>\n",
       "      <td>-70.0</td>\n",
       "      <td>private</td>\n",
       "    </tr>\n",
       "  </tbody>\n",
       "</table>\n",
       "</div>"
      ],
      "text/plain": [
       "  Buchungstag   Buchungstext  \\\n",
       "0  2016-07-28  Lohn / Gehalt   \n",
       "1  2016-07-27          Miete   \n",
       "2  2016-07-21        Bargeld   \n",
       "\n",
       "                                    Verwendungszweck  \\\n",
       "0  Gehalt Adorsys GmbH & Co. KG End-To-End-Ref.: ...   \n",
       "1  Byladem1Sbt De12773501123456789889 Miete Beuth...   \n",
       "2  21.07/16.34Uhr Nuernberg All Eur 70,00 Geb.Eur...   \n",
       "\n",
       "  Beguenstigter/Zahlungspflichtiger  Betrag    label  \n",
       "0             Adorsys GmbH & Co. KG  2000.0   income  \n",
       "1                      Georg Tasche  -670.0   living  \n",
       "2                           Bargeld   -70.0  private  "
      ]
     },
     "execution_count": 2,
     "metadata": {},
     "output_type": "execute_result"
    }
   ],
   "source": [
    "df_raw = pandas.read_csv(\n",
    "    'data.csv',\n",
    "    sep=';',\n",
    "    encoding='utf8',\n",
    "    header=0,\n",
    "    # ignore column 'Waehrung' as it is always 'EUR'\n",
    "    # ignore column 'Valutadatum' as only one row varies from 'Buchungstag'\n",
    "    # ignore column 'Auftragskonto' as it only has 2 distinct values and 20% of the rows have no value\n",
    "    # ignore columns 'Kontonummer' and 'BLZ' to improve generalization of the model\n",
    "    usecols=lambda name: name not in ['Waehrung', 'Valutadatum', 'Auftragskonto', 'Kontonummer', 'BLZ'],\n",
    "    # remaining: Buchungstag, Buchungstext, Verwendungszweck, Beguenstigter/Zahlungspflichtiger, Betrag, label\n",
    "    dayfirst=True,\n",
    "    parse_dates=['Buchungstag'],\n",
    "    index_col=0,\n",
    "    converters={'Betrag': lambda s: pandas.to_numeric(s.replace(\",\", \".\"), errors='coerce')}\n",
    ")\n",
    "df_raw.head(3)"
   ]
  },
  {
   "cell_type": "markdown",
   "metadata": {},
   "source": [
    "# Test for missing values"
   ]
  },
  {
   "cell_type": "code",
   "execution_count": 3,
   "metadata": {},
   "outputs": [
    {
     "data": {
      "text/plain": [
       "Buchungstag                          0\n",
       "Buchungstext                         0\n",
       "Verwendungszweck                     0\n",
       "Beguenstigter/Zahlungspflichtiger    0\n",
       "Betrag                               0\n",
       "label                                0\n",
       "dtype: int64"
      ]
     },
     "execution_count": 3,
     "metadata": {},
     "output_type": "execute_result"
    }
   ],
   "source": [
    "df_raw.isna().sum()"
   ]
  },
  {
   "cell_type": "markdown",
   "metadata": {},
   "source": [
    "# Preprocessing categorical data"
   ]
  },
  {
   "cell_type": "markdown",
   "metadata": {},
   "source": [
    "## Buchungstext"
   ]
  },
  {
   "cell_type": "code",
   "execution_count": 4,
   "metadata": {},
   "outputs": [
    {
     "data": {
      "text/html": [
       "<div>\n",
       "<style scoped>\n",
       "    .dataframe tbody tr th:only-of-type {\n",
       "        vertical-align: middle;\n",
       "    }\n",
       "\n",
       "    .dataframe tbody tr th {\n",
       "        vertical-align: top;\n",
       "    }\n",
       "\n",
       "    .dataframe thead th {\n",
       "        text-align: right;\n",
       "    }\n",
       "</style>\n",
       "<table border=\"1\" class=\"dataframe\">\n",
       "  <thead>\n",
       "    <tr style=\"text-align: right;\">\n",
       "      <th></th>\n",
       "      <th>Buchungstext_ordinal</th>\n",
       "    </tr>\n",
       "  </thead>\n",
       "  <tbody>\n",
       "    <tr>\n",
       "      <th>0</th>\n",
       "      <td>0</td>\n",
       "    </tr>\n",
       "    <tr>\n",
       "      <th>1</th>\n",
       "      <td>1</td>\n",
       "    </tr>\n",
       "    <tr>\n",
       "      <th>2</th>\n",
       "      <td>2</td>\n",
       "    </tr>\n",
       "  </tbody>\n",
       "</table>\n",
       "</div>"
      ],
      "text/plain": [
       "   Buchungstext_ordinal\n",
       "0                     0\n",
       "1                     1\n",
       "2                     2"
      ]
     },
     "execution_count": 4,
     "metadata": {},
     "output_type": "execute_result"
    }
   ],
   "source": [
    "buchungstext_ordinal_ndarray, buchungstext_category = df_raw['Buchungstext'].astype('category').factorize()\n",
    "buchungstext_ordinal_df = pandas.DataFrame(data=buchungstext_ordinal_ndarray, columns=['Buchungstext_ordinal'])\n",
    "buchungstext_ordinal_df.head(3)"
   ]
  },
  {
   "cell_type": "code",
   "execution_count": 5,
   "metadata": {},
   "outputs": [
    {
     "data": {
      "text/html": [
       "<div>\n",
       "<style scoped>\n",
       "    .dataframe tbody tr th:only-of-type {\n",
       "        vertical-align: middle;\n",
       "    }\n",
       "\n",
       "    .dataframe tbody tr th {\n",
       "        vertical-align: top;\n",
       "    }\n",
       "\n",
       "    .dataframe thead th {\n",
       "        text-align: right;\n",
       "    }\n",
       "</style>\n",
       "<table border=\"1\" class=\"dataframe\">\n",
       "  <thead>\n",
       "    <tr style=\"text-align: right;\">\n",
       "      <th></th>\n",
       "      <th>Buchungstext__Abschluss</th>\n",
       "      <th>Buchungstext__Bargeld</th>\n",
       "      <th>Buchungstext__Dauerauftrag</th>\n",
       "      <th>Buchungstext__Drogerie</th>\n",
       "      <th>Buchungstext__Euro-Überweisung</th>\n",
       "      <th>Buchungstext__Euroscheck / Gaa-Belastung Ausland</th>\n",
       "      <th>Buchungstext__Gehalt/Rente</th>\n",
       "      <th>Buchungstext__Geldanlage</th>\n",
       "      <th>Buchungstext__Lastschrift (Einzugsermächtigung)</th>\n",
       "      <th>Buchungstext__Lebensmittel / Getraenke</th>\n",
       "      <th>Buchungstext__Lohn / Gehalt</th>\n",
       "      <th>Buchungstext__Miete</th>\n",
       "      <th>Buchungstext__Mieteinnahmen</th>\n",
       "      <th>Buchungstext__Spontanausgabe</th>\n",
       "    </tr>\n",
       "  </thead>\n",
       "  <tbody>\n",
       "    <tr>\n",
       "      <th>0</th>\n",
       "      <td>0</td>\n",
       "      <td>0</td>\n",
       "      <td>0</td>\n",
       "      <td>0</td>\n",
       "      <td>0</td>\n",
       "      <td>0</td>\n",
       "      <td>0</td>\n",
       "      <td>0</td>\n",
       "      <td>0</td>\n",
       "      <td>0</td>\n",
       "      <td>1</td>\n",
       "      <td>0</td>\n",
       "      <td>0</td>\n",
       "      <td>0</td>\n",
       "    </tr>\n",
       "    <tr>\n",
       "      <th>1</th>\n",
       "      <td>0</td>\n",
       "      <td>0</td>\n",
       "      <td>0</td>\n",
       "      <td>0</td>\n",
       "      <td>0</td>\n",
       "      <td>0</td>\n",
       "      <td>0</td>\n",
       "      <td>0</td>\n",
       "      <td>0</td>\n",
       "      <td>0</td>\n",
       "      <td>0</td>\n",
       "      <td>1</td>\n",
       "      <td>0</td>\n",
       "      <td>0</td>\n",
       "    </tr>\n",
       "    <tr>\n",
       "      <th>2</th>\n",
       "      <td>0</td>\n",
       "      <td>1</td>\n",
       "      <td>0</td>\n",
       "      <td>0</td>\n",
       "      <td>0</td>\n",
       "      <td>0</td>\n",
       "      <td>0</td>\n",
       "      <td>0</td>\n",
       "      <td>0</td>\n",
       "      <td>0</td>\n",
       "      <td>0</td>\n",
       "      <td>0</td>\n",
       "      <td>0</td>\n",
       "      <td>0</td>\n",
       "    </tr>\n",
       "  </tbody>\n",
       "</table>\n",
       "</div>"
      ],
      "text/plain": [
       "   Buchungstext__Abschluss  Buchungstext__Bargeld  Buchungstext__Dauerauftrag  \\\n",
       "0                        0                      0                           0   \n",
       "1                        0                      0                           0   \n",
       "2                        0                      1                           0   \n",
       "\n",
       "   Buchungstext__Drogerie  Buchungstext__Euro-Überweisung  \\\n",
       "0                       0                               0   \n",
       "1                       0                               0   \n",
       "2                       0                               0   \n",
       "\n",
       "   Buchungstext__Euroscheck / Gaa-Belastung Ausland  \\\n",
       "0                                                 0   \n",
       "1                                                 0   \n",
       "2                                                 0   \n",
       "\n",
       "   Buchungstext__Gehalt/Rente  Buchungstext__Geldanlage  \\\n",
       "0                           0                         0   \n",
       "1                           0                         0   \n",
       "2                           0                         0   \n",
       "\n",
       "   Buchungstext__Lastschrift (Einzugsermächtigung)  \\\n",
       "0                                                0   \n",
       "1                                                0   \n",
       "2                                                0   \n",
       "\n",
       "   Buchungstext__Lebensmittel / Getraenke  Buchungstext__Lohn / Gehalt  \\\n",
       "0                                       0                            1   \n",
       "1                                       0                            0   \n",
       "2                                       0                            0   \n",
       "\n",
       "   Buchungstext__Miete  Buchungstext__Mieteinnahmen  \\\n",
       "0                    0                            0   \n",
       "1                    1                            0   \n",
       "2                    0                            0   \n",
       "\n",
       "   Buchungstext__Spontanausgabe  \n",
       "0                             0  \n",
       "1                             0  \n",
       "2                             0  "
      ]
     },
     "execution_count": 5,
     "metadata": {},
     "output_type": "execute_result"
    }
   ],
   "source": [
    "buchungstext_onehot_df = pandas.get_dummies(df_raw['Buchungstext'], prefix='Buchungstext_')\n",
    "buchungstext_onehot_df.head(3)"
   ]
  },
  {
   "cell_type": "markdown",
   "metadata": {},
   "source": [
    "## label"
   ]
  },
  {
   "cell_type": "code",
   "execution_count": 6,
   "metadata": {},
   "outputs": [
    {
     "data": {
      "text/plain": [
       "leisure             65\n",
       "standardOfLiving    47\n",
       "finance             33\n",
       "living              26\n",
       "private             21\n",
       "income              17\n",
       "Name: label, dtype: int64"
      ]
     },
     "execution_count": 6,
     "metadata": {},
     "output_type": "execute_result"
    }
   ],
   "source": [
    "df_raw['label'].value_counts()"
   ]
  },
  {
   "cell_type": "code",
   "execution_count": 7,
   "metadata": {},
   "outputs": [
    {
     "data": {
      "text/plain": [
       "(209, 1)"
      ]
     },
     "execution_count": 7,
     "metadata": {},
     "output_type": "execute_result"
    }
   ],
   "source": [
    "label_encoder = sklearn.preprocessing.OrdinalEncoder(dtype=numpy.int)\n",
    "label_ordinal = label_encoder.fit_transform(df_raw['label'].to_numpy().reshape(-1, 1))\n",
    "label_ordinal.shape"
   ]
  },
  {
   "cell_type": "code",
   "execution_count": 8,
   "metadata": {},
   "outputs": [
    {
     "data": {
      "text/plain": [
       "2    65\n",
       "5    47\n",
       "0    33\n",
       "3    26\n",
       "4    21\n",
       "1    17\n",
       "dtype: int64"
      ]
     },
     "execution_count": 8,
     "metadata": {},
     "output_type": "execute_result"
    }
   ],
   "source": [
    "pandas.value_counts(label_ordinal.ravel())"
   ]
  },
  {
   "cell_type": "markdown",
   "metadata": {},
   "source": [
    "# Feature extraction for Buchungstag"
   ]
  },
  {
   "cell_type": "markdown",
   "metadata": {},
   "source": [
    "Unused, left for experiments."
   ]
  },
  {
   "cell_type": "code",
   "execution_count": 9,
   "metadata": {},
   "outputs": [
    {
     "data": {
      "text/html": [
       "<div>\n",
       "<style scoped>\n",
       "    .dataframe tbody tr th:only-of-type {\n",
       "        vertical-align: middle;\n",
       "    }\n",
       "\n",
       "    .dataframe tbody tr th {\n",
       "        vertical-align: top;\n",
       "    }\n",
       "\n",
       "    .dataframe thead th {\n",
       "        text-align: right;\n",
       "    }\n",
       "</style>\n",
       "<table border=\"1\" class=\"dataframe\">\n",
       "  <thead>\n",
       "    <tr style=\"text-align: right;\">\n",
       "      <th></th>\n",
       "      <th>TageSeitMontag</th>\n",
       "      <th>TageSeitMonatsanfang</th>\n",
       "    </tr>\n",
       "  </thead>\n",
       "  <tbody>\n",
       "    <tr>\n",
       "      <th>0</th>\n",
       "      <td>3</td>\n",
       "      <td>0.900000</td>\n",
       "    </tr>\n",
       "    <tr>\n",
       "      <th>1</th>\n",
       "      <td>2</td>\n",
       "      <td>0.866667</td>\n",
       "    </tr>\n",
       "    <tr>\n",
       "      <th>2</th>\n",
       "      <td>3</td>\n",
       "      <td>0.666667</td>\n",
       "    </tr>\n",
       "  </tbody>\n",
       "</table>\n",
       "</div>"
      ],
      "text/plain": [
       "   TageSeitMontag  TageSeitMonatsanfang\n",
       "0               3              0.900000\n",
       "1               2              0.866667\n",
       "2               3              0.666667"
      ]
     },
     "execution_count": 9,
     "metadata": {},
     "output_type": "execute_result"
    }
   ],
   "source": [
    "buchungstag_df = pandas.DataFrame()\n",
    "buchungstag_df['TageSeitMontag'] = df_raw['Buchungstag'].dt.dayofweek\n",
    "buchungstag_df['TageSeitMonatsanfang'] = numpy.divide(df_raw['Buchungstag'].dt.day - 1,\n",
    "                                                      df_raw['Buchungstag'].dt.daysinmonth - 1)\n",
    "buchungstag_df.head(3)"
   ]
  },
  {
   "cell_type": "markdown",
   "metadata": {},
   "source": [
    "# Feature extraction for Betrag"
   ]
  },
  {
   "cell_type": "markdown",
   "metadata": {},
   "source": [
    "Unused, left for experiments."
   ]
  },
  {
   "cell_type": "code",
   "execution_count": 10,
   "metadata": {},
   "outputs": [
    {
     "data": {
      "text/html": [
       "<div>\n",
       "<style scoped>\n",
       "    .dataframe tbody tr th:only-of-type {\n",
       "        vertical-align: middle;\n",
       "    }\n",
       "\n",
       "    .dataframe tbody tr th {\n",
       "        vertical-align: top;\n",
       "    }\n",
       "\n",
       "    .dataframe thead th {\n",
       "        text-align: right;\n",
       "    }\n",
       "</style>\n",
       "<table border=\"1\" class=\"dataframe\">\n",
       "  <thead>\n",
       "    <tr style=\"text-align: right;\">\n",
       "      <th></th>\n",
       "      <th>BetragPositiv</th>\n",
       "      <th>BetragCents00</th>\n",
       "      <th>Betrag2Log10</th>\n",
       "    </tr>\n",
       "  </thead>\n",
       "  <tbody>\n",
       "    <tr>\n",
       "      <th>0</th>\n",
       "      <td>True</td>\n",
       "      <td>True</td>\n",
       "      <td>3.0</td>\n",
       "    </tr>\n",
       "    <tr>\n",
       "      <th>1</th>\n",
       "      <td>False</td>\n",
       "      <td>True</td>\n",
       "      <td>3.0</td>\n",
       "    </tr>\n",
       "    <tr>\n",
       "      <th>2</th>\n",
       "      <td>False</td>\n",
       "      <td>True</td>\n",
       "      <td>2.0</td>\n",
       "    </tr>\n",
       "  </tbody>\n",
       "</table>\n",
       "</div>"
      ],
      "text/plain": [
       "   BetragPositiv  BetragCents00  Betrag2Log10\n",
       "0           True           True           3.0\n",
       "1          False           True           3.0\n",
       "2          False           True           2.0"
      ]
     },
     "execution_count": 10,
     "metadata": {},
     "output_type": "execute_result"
    }
   ],
   "source": [
    "betrag_df = pandas.DataFrame()\n",
    "betrag_df['BetragPositiv'] = df_raw['Betrag'] >= 0.0\n",
    "betrag_df['BetragCents00'] = numpy.round(df_raw['Betrag']) - df_raw['Betrag'] == 0.0\n",
    "betrag_df['Betrag2Log10'] = numpy.round(numpy.log10(numpy.abs(df_raw['Betrag']) + 1.0))\n",
    "betrag_df.head(3)"
   ]
  },
  {
   "cell_type": "markdown",
   "metadata": {},
   "source": [
    "# Preprocessing textual columns"
   ]
  },
  {
   "cell_type": "code",
   "execution_count": 11,
   "metadata": {},
   "outputs": [
    {
     "data": {
      "text/plain": [
       "(209, 104)"
      ]
     },
     "execution_count": 11,
     "metadata": {},
     "output_type": "execute_result"
    }
   ],
   "source": [
    "# merge the two text columns\n",
    "# delete bank account numbers (IBAN) and some other combinations of letters with digits\n",
    "# ~50% less unique words without lowering classifier performance (and improves generalization)\n",
    "text_series = df_raw['Verwendungszweck'].\\\n",
    "    str.replace(r'\\bde\\d+\\b', '', case=False, regex=True).\\\n",
    "    str.cat(others=df_raw['Beguenstigter/Zahlungspflichtiger'], sep=' ').\\\n",
    "    str.replace(r'\\b\\w+\\d+\\w+\\b', '', regex=True).\\\n",
    "    str.replace(r'\\b\\d+\\w*\\b', '', regex=True)\n",
    "vectorizer = sklearn.feature_extraction.text.CountVectorizer(min_df=3, binary=False)\n",
    "# min_df=1/2/3: overfitting for 1 and 2, optimum for 3, underfitting for 4+\n",
    "# binary=True/False: practically no difference\n",
    "# compared with TfidfVectorizer: superior performance\n",
    "bag_of_words_matrix = vectorizer.fit_transform(text_series.to_numpy())  # sparse matrix (csr_matrix)\n",
    "bag_of_words_column_names = vectorizer.get_feature_names()\n",
    "bag_of_words_df = pandas.DataFrame(data=bag_of_words_matrix.todense(), columns=bag_of_words_column_names)\n",
    "bag_of_words_df.shape"
   ]
  },
  {
   "cell_type": "markdown",
   "metadata": {},
   "source": [
    "# Create joint DataFrame"
   ]
  },
  {
   "cell_type": "code",
   "execution_count": 12,
   "metadata": {},
   "outputs": [
    {
     "data": {
      "text/html": [
       "<div>\n",
       "<style scoped>\n",
       "    .dataframe tbody tr th:only-of-type {\n",
       "        vertical-align: middle;\n",
       "    }\n",
       "\n",
       "    .dataframe tbody tr th {\n",
       "        vertical-align: top;\n",
       "    }\n",
       "\n",
       "    .dataframe thead th {\n",
       "        text-align: right;\n",
       "    }\n",
       "</style>\n",
       "<table border=\"1\" class=\"dataframe\">\n",
       "  <thead>\n",
       "    <tr style=\"text-align: right;\">\n",
       "      <th></th>\n",
       "      <th>Buchungstext__Abschluss</th>\n",
       "      <th>Buchungstext__Bargeld</th>\n",
       "      <th>Buchungstext__Dauerauftrag</th>\n",
       "      <th>Buchungstext__Drogerie</th>\n",
       "      <th>Buchungstext__Euro-Überweisung</th>\n",
       "      <th>Buchungstext__Euroscheck / Gaa-Belastung Ausland</th>\n",
       "      <th>Buchungstext__Gehalt/Rente</th>\n",
       "      <th>Buchungstext__Geldanlage</th>\n",
       "      <th>Buchungstext__Lastschrift (Einzugsermächtigung)</th>\n",
       "      <th>Buchungstext__Lebensmittel / Getraenke</th>\n",
       "      <th>...</th>\n",
       "      <th>vag</th>\n",
       "      <th>verf</th>\n",
       "      <th>verfa</th>\n",
       "      <th>verfal</th>\n",
       "      <th>verfall</th>\n",
       "      <th>verfalld</th>\n",
       "      <th>vj</th>\n",
       "      <th>vk</th>\n",
       "      <th>wie</th>\n",
       "      <th>zalando</th>\n",
       "    </tr>\n",
       "  </thead>\n",
       "  <tbody>\n",
       "    <tr>\n",
       "      <th>0</th>\n",
       "      <td>0</td>\n",
       "      <td>0</td>\n",
       "      <td>0</td>\n",
       "      <td>0</td>\n",
       "      <td>0</td>\n",
       "      <td>0</td>\n",
       "      <td>0</td>\n",
       "      <td>0</td>\n",
       "      <td>0</td>\n",
       "      <td>0</td>\n",
       "      <td>...</td>\n",
       "      <td>0</td>\n",
       "      <td>0</td>\n",
       "      <td>0</td>\n",
       "      <td>0</td>\n",
       "      <td>0</td>\n",
       "      <td>0</td>\n",
       "      <td>0</td>\n",
       "      <td>0</td>\n",
       "      <td>0</td>\n",
       "      <td>0</td>\n",
       "    </tr>\n",
       "    <tr>\n",
       "      <th>1</th>\n",
       "      <td>0</td>\n",
       "      <td>0</td>\n",
       "      <td>0</td>\n",
       "      <td>0</td>\n",
       "      <td>0</td>\n",
       "      <td>0</td>\n",
       "      <td>0</td>\n",
       "      <td>0</td>\n",
       "      <td>0</td>\n",
       "      <td>0</td>\n",
       "      <td>...</td>\n",
       "      <td>0</td>\n",
       "      <td>0</td>\n",
       "      <td>0</td>\n",
       "      <td>0</td>\n",
       "      <td>0</td>\n",
       "      <td>0</td>\n",
       "      <td>0</td>\n",
       "      <td>0</td>\n",
       "      <td>0</td>\n",
       "      <td>0</td>\n",
       "    </tr>\n",
       "    <tr>\n",
       "      <th>2</th>\n",
       "      <td>0</td>\n",
       "      <td>1</td>\n",
       "      <td>0</td>\n",
       "      <td>0</td>\n",
       "      <td>0</td>\n",
       "      <td>0</td>\n",
       "      <td>0</td>\n",
       "      <td>0</td>\n",
       "      <td>0</td>\n",
       "      <td>0</td>\n",
       "      <td>...</td>\n",
       "      <td>0</td>\n",
       "      <td>0</td>\n",
       "      <td>0</td>\n",
       "      <td>0</td>\n",
       "      <td>0</td>\n",
       "      <td>0</td>\n",
       "      <td>0</td>\n",
       "      <td>0</td>\n",
       "      <td>0</td>\n",
       "      <td>0</td>\n",
       "    </tr>\n",
       "  </tbody>\n",
       "</table>\n",
       "<p>3 rows × 118 columns</p>\n",
       "</div>"
      ],
      "text/plain": [
       "   Buchungstext__Abschluss  Buchungstext__Bargeld  Buchungstext__Dauerauftrag  \\\n",
       "0                        0                      0                           0   \n",
       "1                        0                      0                           0   \n",
       "2                        0                      1                           0   \n",
       "\n",
       "   Buchungstext__Drogerie  Buchungstext__Euro-Überweisung  \\\n",
       "0                       0                               0   \n",
       "1                       0                               0   \n",
       "2                       0                               0   \n",
       "\n",
       "   Buchungstext__Euroscheck / Gaa-Belastung Ausland  \\\n",
       "0                                                 0   \n",
       "1                                                 0   \n",
       "2                                                 0   \n",
       "\n",
       "   Buchungstext__Gehalt/Rente  Buchungstext__Geldanlage  \\\n",
       "0                           0                         0   \n",
       "1                           0                         0   \n",
       "2                           0                         0   \n",
       "\n",
       "   Buchungstext__Lastschrift (Einzugsermächtigung)  \\\n",
       "0                                                0   \n",
       "1                                                0   \n",
       "2                                                0   \n",
       "\n",
       "   Buchungstext__Lebensmittel / Getraenke  ...  vag  verf  verfa  verfal  \\\n",
       "0                                       0  ...    0     0      0       0   \n",
       "1                                       0  ...    0     0      0       0   \n",
       "2                                       0  ...    0     0      0       0   \n",
       "\n",
       "   verfall  verfalld  vj  vk  wie  zalando  \n",
       "0        0         0   0   0    0        0  \n",
       "1        0         0   0   0    0        0  \n",
       "2        0         0   0   0    0        0  \n",
       "\n",
       "[3 rows x 118 columns]"
      ]
     },
     "execution_count": 12,
     "metadata": {},
     "output_type": "execute_result"
    }
   ],
   "source": [
    "dataframes_to_join = [buchungstext_onehot_df, bag_of_words_df]  # left out buchungstag_df, betrag_df\n",
    "X_df: pandas.DataFrame = pandas.concat(dataframes_to_join, axis=1)\n",
    "X_column_names = []\n",
    "for df in dataframes_to_join:\n",
    "    X_column_names.extend(df.columns)\n",
    "X_df.columns = X_column_names\n",
    "X_df.head(3)"
   ]
  },
  {
   "cell_type": "code",
   "execution_count": 13,
   "metadata": {},
   "outputs": [
    {
     "data": {
      "text/plain": [
       "(209,)"
      ]
     },
     "execution_count": 13,
     "metadata": {},
     "output_type": "execute_result"
    }
   ],
   "source": [
    "y = label_ordinal.ravel()  # 2D -> 1D\n",
    "y.shape"
   ]
  },
  {
   "cell_type": "markdown",
   "metadata": {},
   "source": [
    "# Train classifier\n",
    "\n",
    "The performance metrics for a single trained model are not very robust because the test set is quite small. (The performance of a trained model is also not very robust because of the small training set. This means a model trained from another random training set can perform quite differently.)\n",
    "\n",
    "Crossvalidation is used to determine mean and standard deviation for the performance metrics over multiple trained models. Stratified crossvalidation ensures that the distribution of classes among samples in training and test sets is not skewed. Repeated crossvalidation (with randomly selected samples each time) lowers the variance further. However, classes with only a few samples put a lower bound on the variance."
   ]
  },
  {
   "cell_type": "code",
   "execution_count": 14,
   "metadata": {},
   "outputs": [],
   "source": [
    "n_splits = 3  # test set made up of 33% of the data, rest for training set\n",
    "n_repeats = 40  # metrics results stabilize for 40+ repeats\n",
    "crossval = sklearn.model_selection.RepeatedStratifiedKFold(n_splits=n_splits, n_repeats=n_repeats)\n",
    "classifier_mnb = sklearn.naive_bayes.MultinomialNB(alpha=1.0)  # best performance for alpha=1.0\n",
    "# sklearn.naive_bayes.ComplementNB performs slightly worse than MultinomialNB\n",
    "metric_names = ['accuracy', 'precision_macro', 'recall_macro', 'f1_macro']\n",
    "scores = sklearn.model_selection.cross_validate(classifier_mnb, X_df, y=y, cv=crossval,\n",
    "                                                return_train_score=True, scoring=metric_names)"
   ]
  },
  {
   "cell_type": "markdown",
   "metadata": {},
   "source": [
    "# Evaluate classifier"
   ]
  },
  {
   "cell_type": "code",
   "execution_count": 15,
   "metadata": {},
   "outputs": [
    {
     "data": {
      "text/html": [
       "<div>\n",
       "<style scoped>\n",
       "    .dataframe tbody tr th:only-of-type {\n",
       "        vertical-align: middle;\n",
       "    }\n",
       "\n",
       "    .dataframe tbody tr th {\n",
       "        vertical-align: top;\n",
       "    }\n",
       "\n",
       "    .dataframe thead th {\n",
       "        text-align: right;\n",
       "    }\n",
       "</style>\n",
       "<table border=\"1\" class=\"dataframe\">\n",
       "  <thead>\n",
       "    <tr style=\"text-align: right;\">\n",
       "      <th></th>\n",
       "      <th></th>\n",
       "      <th>mean</th>\n",
       "      <th>stddev</th>\n",
       "    </tr>\n",
       "    <tr>\n",
       "      <th>metric</th>\n",
       "      <th>over set</th>\n",
       "      <th></th>\n",
       "      <th></th>\n",
       "    </tr>\n",
       "  </thead>\n",
       "  <tbody>\n",
       "    <tr>\n",
       "      <th rowspan=\"2\" valign=\"top\">accuracy</th>\n",
       "      <th>testing</th>\n",
       "      <td>0.891449</td>\n",
       "      <td>0.034500</td>\n",
       "    </tr>\n",
       "    <tr>\n",
       "      <th>training</th>\n",
       "      <td>0.911963</td>\n",
       "      <td>0.014135</td>\n",
       "    </tr>\n",
       "    <tr>\n",
       "      <th rowspan=\"2\" valign=\"top\">precision_macro</th>\n",
       "      <th>testing</th>\n",
       "      <td>0.928857</td>\n",
       "      <td>0.023004</td>\n",
       "    </tr>\n",
       "    <tr>\n",
       "      <th>training</th>\n",
       "      <td>0.939484</td>\n",
       "      <td>0.009963</td>\n",
       "    </tr>\n",
       "    <tr>\n",
       "      <th rowspan=\"2\" valign=\"top\">recall_macro</th>\n",
       "      <th>testing</th>\n",
       "      <td>0.885883</td>\n",
       "      <td>0.038592</td>\n",
       "    </tr>\n",
       "    <tr>\n",
       "      <th>training</th>\n",
       "      <td>0.904238</td>\n",
       "      <td>0.016935</td>\n",
       "    </tr>\n",
       "    <tr>\n",
       "      <th rowspan=\"2\" valign=\"top\">f1_macro</th>\n",
       "      <th>testing</th>\n",
       "      <td>0.898182</td>\n",
       "      <td>0.033469</td>\n",
       "    </tr>\n",
       "    <tr>\n",
       "      <th>training</th>\n",
       "      <td>0.916584</td>\n",
       "      <td>0.014350</td>\n",
       "    </tr>\n",
       "  </tbody>\n",
       "</table>\n",
       "</div>"
      ],
      "text/plain": [
       "                              mean    stddev\n",
       "metric          over set                    \n",
       "accuracy        testing   0.891449  0.034500\n",
       "                training  0.911963  0.014135\n",
       "precision_macro testing   0.928857  0.023004\n",
       "                training  0.939484  0.009963\n",
       "recall_macro    testing   0.885883  0.038592\n",
       "                training  0.904238  0.016935\n",
       "f1_macro        testing   0.898182  0.033469\n",
       "                training  0.916584  0.014350"
      ]
     },
     "execution_count": 15,
     "metadata": {},
     "output_type": "execute_result"
    }
   ],
   "source": [
    "index_set_names = ['testing', 'training']\n",
    "eval_df = pandas.DataFrame(\n",
    "    index=pandas.MultiIndex(\n",
    "        names=['metric', 'over set'],\n",
    "        levels=[metric_names, index_set_names],\n",
    "        codes=[[0, 0, 1, 1, 2, 2, 3, 3], [0, 1, 0, 1, 0, 1, 0, 1]]\n",
    "    ),\n",
    "    columns=['mean', 'stddev'],\n",
    "    dtype=numpy.float64\n",
    ")\n",
    "for metric_name in metric_names:\n",
    "    for index_set_name in index_set_names:\n",
    "        score_key = index_set_name.rsplit('ing')[0] + '_' + metric_name\n",
    "        metric_data = scores[score_key]\n",
    "        eval_df.at[(metric_name, index_set_name), 'mean'] = metric_data.mean()\n",
    "        eval_df.at[(metric_name, index_set_name), 'stddev'] = metric_data.std()\n",
    "eval_df"
   ]
  }
 ],
 "metadata": {
  "kernelspec": {
   "display_name": "Python 3",
   "language": "python",
   "name": "python3"
  },
  "language_info": {
   "codemirror_mode": {
    "name": "ipython",
    "version": 3
   },
   "file_extension": ".py",
   "mimetype": "text/x-python",
   "name": "python",
   "nbconvert_exporter": "python",
   "pygments_lexer": "ipython3",
   "version": "3.6.7"
  }
 },
 "nbformat": 4,
 "nbformat_minor": 2
}
