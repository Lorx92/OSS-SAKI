{
 "cells": [
  {
   "cell_type": "markdown",
   "metadata": {},
   "source": [
    "# Resume NER\n",
    "## Extract Information from Resumes using NER (Named Entity Recognition)"
   ]
  },
  {
   "cell_type": "markdown",
   "metadata": {},
   "source": [
    "### Part 1 - Data Exploration and preprocessing\n",
    "* load and examine the dataset we will be working with\n",
    "* preparing the data for training: see part 2"
   ]
  },
  {
   "cell_type": "markdown",
   "metadata": {},
   "source": [
    "#### Load the Dataset"
   ]
  },
  {
   "cell_type": "code",
   "execution_count": 1,
   "metadata": {},
   "outputs": [],
   "source": [
    "import os\n",
    "dataset_path = \"data.json\"  # expecting this dataset file in the current directory\n",
    "assert(os.path.exists(dataset_path))"
   ]
  },
  {
   "cell_type": "code",
   "execution_count": 2,
   "metadata": {},
   "outputs": [
    {
     "name": "stdout",
     "output_type": "stream",
     "text": [
      "701 lines read\n",
      "Sample resume:\n",
      "{\"content\": \"Ashalata Bisoyi\\nTransaction Processor - Oracle India Private Limited\\n\\nBengaluru, Karnataka - Email me on Indeed: indeed.com/r/Ashalata-Bisoyi/cf02125911cfb5df\\n\\nTo secure a position an esteem organization with good working culture that will help my career\\nin the field of finance through my sincerity, hard works and skills.\\n\\nWORK EXPERIENCE\\n\\nTransaction Processor\\n\\nOracle India Private Limited -\\n\\nApril 2016 to Present\\n\\n2 Year of experience with Oracle India Private Limited in expense team. My work is auditing of\\nexpense reports of employees of all the countries, handling queries through emails and calls also.\\nJOB DESCRIPTION\\n• Auditing of expense reports of the employees for all the countries and working on service portal\\n(Answering queries through email)\\n• Handling the team in absence of seniors.\\n• Working on Payment Rejections, export of expense reports to AP.\\n• Take care of running Backlog, Having knowledge about travel advance.\\n\\nEDUCATION\\n\\nMaster of Finance and Control in MFC\\n\\nKhallikote Autonomous college -  Brahmapur, Orissa\\n\\n2015\\n\\nBachelor in Commerce\\n\\nBerhampur university -  Brahmapur, Orissa\\n\\n2013\\n\\nAccounting\\n\\nScience College, Hinjilicut -  Brahmapur, Orissa\\n\\n2010\\n\\nEducation\\n\\nCouncil of Higher Secondary -  Orissa, IN\\n\\n2008\\n\\nGovernment girls High school -  Hinjilikatu, Orissa\\n\\nhttps://www.indeed.com/r/Ashalata-Bisoyi/cf02125911cfb5df?isid=rex-download&ikw=download-top&co=IN\\n\\n\\nBoard of Secondary Education -  Orissa, IN\\n\\nADDITIONAL INFORMATION\\n\\n• Good analytical skills and flexible in work atmosphere.\\n• Able to handle complex situation under process\\n• Willingness to learn\\n• Ability to meet deadlines\\n• Every time accept the new challenges\\n\\nOTHER QUALIFICATIONS\\n• DOEACC O LEVEL\\n• M.S. OFFICE\",\"annotation\":[{\"label\":[\"Skills\"],\"points\":[{\"start\":1710,\"end\":1720,\"text\":\"M.S. OFFICE\"}]},{\"label\":[\"Skills\"],\"points\":[{\"start\":1692,\"end\":1706,\"text\":\" DOEACC O LEVEL\"}]},{\"label\":[\"Address\"],\"points\":[{\"start\":1436,\"end\":1441,\"text\":\"Orissa\"}]},{\"label\":[\"Degree\"],\"points\":[{\"start\":1404,\"end\":1432,\"text\":\"Board of Secondary Education \"}]},{\"label\":[\"Email Address\"],\"points\":[{\"start\":1315,\"end\":1359,\"text\":\"indeed.com/r/Ashalata-Bisoyi/cf02125911cfb5df\"}]},{\"label\":[\"Links\"],\"points\":[{\"start\":1303,\"end\":1400,\"text\":\"https://www.indeed.com/r/Ashalata-Bisoyi/cf02125911cfb5df?isid=rex-download&ikw=download-top&co=IN\"}]},{\"label\":[\"Address\"],\"points\":[{\"start\":1295,\"end\":1300,\"text\":\"Orissa\"}]},{\"label\":[\"College Name\"],\"points\":[{\"start\":1250,\"end\":1278,\"text\":\"Government girls High school \"}]},{\"label\":[\"Graduation Year\"],\"points\":[{\"start\":1244,\"end\":1247,\"text\":\"2008\"}]},{\"label\":[\"Address\"],\"points\":[{\"start\":1232,\"end\":1237,\"text\":\"Orissa\"}]},{\"label\":[\"Graduation Year\"],\"points\":[{\"start\":1184,\"end\":1187,\"text\":\"2010\"}]},{\"label\":[\"Address\"],\"points\":[{\"start\":1176,\"end\":1181,\"text\":\"Orissa\"}]},{\"label\":[\"College Name\"],\"points\":[{\"start\":1134,\"end\":1160,\"text\":\"Science College, Hinjilicut\"}]},{\"label\":[\"Degree\"],\"points\":[{\"start\":1122,\"end\":1131,\"text\":\"Accounting\"}]},{\"label\":[\"Graduation Year\"],\"points\":[{\"start\":1116,\"end\":1119,\"text\":\"2013\"}]},{\"label\":[\"Address\"],\"points\":[{\"start\":1108,\"end\":1113,\"text\":\"Orissa\"}]},{\"label\":[\"College Name\"],\"points\":[{\"start\":1073,\"end\":1092,\"text\":\"Berhampur university\"}]},{\"label\":[\"Degree\"],\"points\":[{\"start\":1051,\"end\":1071,\"text\":\"Bachelor in Commerce\\n\"}]},{\"label\":[\"Graduation Year\"],\"points\":[{\"start\":1045,\"end\":1049,\"text\":\"2015\\n\"}]},{\"label\":[\"Address\"],\"points\":[{\"start\":1037,\"end\":1042,\"text\":\"Orissa\"}]},{\"label\":[\"College Name\"],\"points\":[{\"start\":993,\"end\":1021,\"text\":\"Khallikote Autonomous college\"}]},{\"label\":[\"Degree\"],\"points\":[{\"start\":955,\"end\":990,\"text\":\"Master of Finance and Control in MFC\"}]},{\"label\":[\"Companies worked at\"],\"points\":[{\"start\":446,\"end\":473,\"text\":\"Oracle India Private Limited\"}]},{\"label\":[\"Years of Experience\"],\"points\":[{\"start\":420,\"end\":439,\"text\":\"2 Year of experience\"}]},{\"label\":[\"Companies worked at\"],\"points\":[{\"start\":365,\"end\":392,\"text\":\"Oracle India Private Limited\"}]},{\"label\":[\"Designation\"],\"points\":[{\"start\":342,\"end\":362,\"text\":\"Transaction Processor\"}]},{\"label\":[\"Email Address\"],\"points\":[{\"start\":113,\"end\":157,\"text\":\"indeed.com/r/Ashalata-Bisoyi/cf02125911cfb5df\"}]},{\"label\":[\"Location\"],\"points\":[{\"start\":70,\"end\":78,\"text\":\"Bengaluru\"}]},{\"label\":[\"Companies worked at\"],\"points\":[{\"start\":40,\"end\":67,\"text\":\"Oracle India Private Limited\"}]},{\"label\":[\"Designation\"],\"points\":[{\"start\":16,\"end\":36,\"text\":\"Transaction Processor\"}]},{\"label\":[\"Name\"],\"points\":[{\"start\":0,\"end\":14,\"text\":\"Ashalata Bisoyi\"}]}],\"extras\":null,\"metadata\":{\"first_done_at\":1527764330000,\"last_updated_at\":1537545113000,\"sec_taken\":55,\"last_updated_by\":\"F8QVa4yeXLS7pjDSSRcsQJAapC43\",\"status\":\"done\",\"evaluation\":\"CORRECT\"}}\n",
      "\n"
     ]
    }
   ],
   "source": [
    "with open(dataset_path, 'r', encoding=\"utf8\") as f:\n",
    "    text = f.readlines()\n",
    "    print('{} lines read'.format(len(text)))\n",
    "    print(\"Sample resume:\")\n",
    "    print(text[5])"
   ]
  },
  {
   "cell_type": "markdown",
   "metadata": {},
   "source": [
    "#### Convert the dataset to python dictionaries\n",
    "As we can see, the resumes are not in a convenient human-readable form, but are json dictionaries. We want to work with the resumes as python dictionaries and not as raw text, so we will convert the resumes from text to dictionaries."
   ]
  },
  {
   "cell_type": "code",
   "execution_count": 3,
   "metadata": {},
   "outputs": [],
   "source": [
    "import json\n",
    "all_resumes = []\n",
    "for line in text:\n",
    "    resume = json.loads(line)  # resume is a dictionary\n",
    "    all_resumes.append(resume)\n",
    "\n",
    "# select an example to explore its structure\n",
    "resume = all_resumes[5]"
   ]
  },
  {
   "cell_type": "markdown",
   "metadata": {},
   "source": [
    "##### Explore the resume data structure"
   ]
  },
  {
   "cell_type": "code",
   "execution_count": 4,
   "metadata": {},
   "outputs": [
    {
     "name": "stdout",
     "output_type": "stream",
     "text": [
      "keys and values in resume:\n",
      "================================================================================\n",
      "--------------------------------------------------------------------------------\n",
      "content = Ashalata Bisoyi\n",
      "Transaction Processor - Oracle India Private Limited\n",
      "\n",
      "Bengaluru, Karnataka - Email me on Indeed: indeed.com/r/Ashalata-Bisoyi/cf02125911cfb5df\n",
      "\n",
      "To secure a position an esteem organization with good working culture that will help my career\n",
      "in the field of finance through my sincerity, hard works and skills.\n",
      "\n",
      "WORK EXPERIENCE\n",
      "\n",
      "Transaction Processor\n",
      "\n",
      "Oracle India Private Limited -\n",
      "\n",
      "April 2016 to Present\n",
      "\n",
      "2 Year of experience with Oracle India Private Limited in expense team. My work is auditing of\n",
      "expense reports of employees of all the countries, handling queries through emails and calls also.\n",
      "JOB DESCRIPTION\n",
      "• Auditing of expense reports of the employees for all the countries and working on service portal\n",
      "(Answering queries through email)\n",
      "• Handling the team in absence of seniors.\n",
      "• Working on Payment Rejections, export of expense reports to AP.\n",
      "• Take care of running Backlog, Having knowledge about travel advance.\n",
      "\n",
      "EDUCATION\n",
      "\n",
      "Master of Finance and Control in MFC\n",
      "\n",
      "Khallikote Autonomous college -  Brahmapur, Orissa\n",
      "\n",
      "2015\n",
      "\n",
      "Bachelor in Commerce\n",
      "\n",
      "Berhampur university -  Brahmapur, Orissa\n",
      "\n",
      "2013\n",
      "\n",
      "Accounting\n",
      "\n",
      "Science College, Hinjilicut -  Brahmapur, Orissa\n",
      "\n",
      "2010\n",
      "\n",
      "Education\n",
      "\n",
      "Council of Higher Secondary -  Orissa, IN\n",
      "\n",
      "2008\n",
      "\n",
      "Government girls High school -  Hinjilikatu, Orissa\n",
      "\n",
      "https://www.indeed.com/r/Ashalata-Bisoyi/cf02125911cfb5df?isid=rex-download&ikw=download-top&co=IN\n",
      "\n",
      "\n",
      "Board of Secondary Education -  Orissa, IN\n",
      "\n",
      "ADDITIONAL INFORMATION\n",
      "\n",
      "• Good analytical skills and flexible in work atmosphere.\n",
      "• Able to handle complex situation under process\n",
      "• Willingness to learn\n",
      "• Ability to meet deadlines\n",
      "• Every time accept the new challenges\n",
      "\n",
      "OTHER QUALIFICATIONS\n",
      "• DOEACC O LEVEL\n",
      "• M.S. OFFICE\n",
      "--------------------------------------------------------------------------------\n",
      "annotation = [{'label': ['Skills'], 'points': [{'start': 1710, 'end': 1720, 'text': 'M.S. OFFICE'}]}, {'label': ['Skills'], 'points': [{'start': 1692, 'end': 1706, 'text': ' DOEACC O LEVEL'}]}, {'label': ['Address'], 'points': [{'start': 1436, 'end': 1441, 'text': 'Orissa'}]}, {'label': ['Degree'], 'points': [{'start': 1404, 'end': 1432, 'text': 'Board of Secondary Education '}]}, {'label': ['Email Address'], 'points': [{'start': 1315, 'end': 1359, 'text': 'indeed.com/r/Ashalata-Bisoyi/cf02125911cfb5df'}]}, {'label': ['Links'], 'points': [{'start': 1303, 'end': 1400, 'text': 'https://www.indeed.com/r/Ashalata-Bisoyi/cf02125911cfb5df?isid=rex-download&ikw=download-top&co=IN'}]}, {'label': ['Address'], 'points': [{'start': 1295, 'end': 1300, 'text': 'Orissa'}]}, {'label': ['College Name'], 'points': [{'start': 1250, 'end': 1278, 'text': 'Government girls High school '}]}, {'label': ['Graduation Year'], 'points': [{'start': 1244, 'end': 1247, 'text': '2008'}]}, {'label': ['Address'], 'points': [{'start': 1232, 'end': 1237, 'text': 'Orissa'}]}, {'label': ['Graduation Year'], 'points': [{'start': 1184, 'end': 1187, 'text': '2010'}]}, {'label': ['Address'], 'points': [{'start': 1176, 'end': 1181, 'text': 'Orissa'}]}, {'label': ['College Name'], 'points': [{'start': 1134, 'end': 1160, 'text': 'Science College, Hinjilicut'}]}, {'label': ['Degree'], 'points': [{'start': 1122, 'end': 1131, 'text': 'Accounting'}]}, {'label': ['Graduation Year'], 'points': [{'start': 1116, 'end': 1119, 'text': '2013'}]}, {'label': ['Address'], 'points': [{'start': 1108, 'end': 1113, 'text': 'Orissa'}]}, {'label': ['College Name'], 'points': [{'start': 1073, 'end': 1092, 'text': 'Berhampur university'}]}, {'label': ['Degree'], 'points': [{'start': 1051, 'end': 1071, 'text': 'Bachelor in Commerce\\n'}]}, {'label': ['Graduation Year'], 'points': [{'start': 1045, 'end': 1049, 'text': '2015\\n'}]}, {'label': ['Address'], 'points': [{'start': 1037, 'end': 1042, 'text': 'Orissa'}]}, {'label': ['College Name'], 'points': [{'start': 993, 'end': 1021, 'text': 'Khallikote Autonomous college'}]}, {'label': ['Degree'], 'points': [{'start': 955, 'end': 990, 'text': 'Master of Finance and Control in MFC'}]}, {'label': ['Companies worked at'], 'points': [{'start': 446, 'end': 473, 'text': 'Oracle India Private Limited'}]}, {'label': ['Years of Experience'], 'points': [{'start': 420, 'end': 439, 'text': '2 Year of experience'}]}, {'label': ['Companies worked at'], 'points': [{'start': 365, 'end': 392, 'text': 'Oracle India Private Limited'}]}, {'label': ['Designation'], 'points': [{'start': 342, 'end': 362, 'text': 'Transaction Processor'}]}, {'label': ['Email Address'], 'points': [{'start': 113, 'end': 157, 'text': 'indeed.com/r/Ashalata-Bisoyi/cf02125911cfb5df'}]}, {'label': ['Location'], 'points': [{'start': 70, 'end': 78, 'text': 'Bengaluru'}]}, {'label': ['Companies worked at'], 'points': [{'start': 40, 'end': 67, 'text': 'Oracle India Private Limited'}]}, {'label': ['Designation'], 'points': [{'start': 16, 'end': 36, 'text': 'Transaction Processor'}]}, {'label': ['Name'], 'points': [{'start': 0, 'end': 14, 'text': 'Ashalata Bisoyi'}]}]\n",
      "--------------------------------------------------------------------------------\n",
      "extras = None\n",
      "--------------------------------------------------------------------------------\n",
      "metadata = {'first_done_at': 1527764330000, 'last_updated_at': 1537545113000, 'sec_taken': 55, 'last_updated_by': 'F8QVa4yeXLS7pjDSSRcsQJAapC43', 'status': 'done', 'evaluation': 'CORRECT'}\n",
      "--------------------------------------------------------------------------------\n"
     ]
    }
   ],
   "source": [
    "# helper function to print a separator line\n",
    "def print_sep(symbol='-'):\n",
    "    print(symbol * 80)\n",
    "\n",
    "print(\"keys and values in resume:\")\n",
    "print_sep('=')\n",
    "for key, value in resume.items():\n",
    "    print_sep('-')\n",
    "    print('{k} = {v}'.format(k=key, v=value))\n",
    "print_sep('-')"
   ]
  },
  {
   "cell_type": "markdown",
   "metadata": {},
   "source": [
    "##### Results\n",
    "* key \"content\" points to the resume content\n",
    "* key \"annotation\" points to the resume's entity annotations"
   ]
  },
  {
   "cell_type": "code",
   "execution_count": 5,
   "metadata": {},
   "outputs": [
    {
     "name": "stdout",
     "output_type": "stream",
     "text": [
      "part of resume content:\n",
      "--------------------------------------------------------------------------------\n",
      "Ashalata Bisoyi\n",
      "Transaction Processor - Oracle India Private Limited\n",
      "\n",
      "Bengaluru, Karnataka - Email me on Indeed: indeed.com/r/Ashalata-Bisoyi/cf02125911cfb5df\n",
      "\n",
      "================================================================================\n",
      "resume entity list:\n",
      "--------------------------------------------------------------------------------\n",
      "[{'label': ['Skills'], 'points': [{'start': 1710, 'end': 1720, 'text': 'M.S. OFFICE'}]}, {'label': ['Skills'], 'points': [{'start': 1692, 'end': 1706, 'text': ' DOEACC O LEVEL'}]}, {'label': ['Address'], 'points': [{'start': 1436, 'end': 1441, 'text': 'Orissa'}]}, {'label': ['Degree'], 'points': [{'start': 1404, 'end': 1432, 'text': 'Board of Secondary Education '}]}, {'label': ['Email Address'], 'points': [{'start': 1315, 'end': 1359, 'text': 'indeed.com/r/Ashalata-Bisoyi/cf02125911cfb5df'}]}, {'label': ['Links'], 'points': [{'start': 1303, 'end': 1400, 'text': 'https://www.indeed.com/r/Ashalata-Bisoyi/cf02125911cfb5df?isid=rex-download&ikw=download-top&co=IN'}]}, {'label': ['Address'], 'points': [{'start': 1295, 'end': 1300, 'text': 'Orissa'}]}, {'label': ['College Name'], 'points': [{'start': 1250, 'end': 1278, 'text': 'Government girls High school '}]}, {'label': ['Graduation Year'], 'points': [{'start': 1244, 'end': 1247, 'text': '2008'}]}, {'label': ['Address'], 'points': [{'start': 1232, 'end': 1237, 'text': 'Orissa'}]}, {'label': ['Graduation Year'], 'points': [{'start': 1184, 'end': 1187, 'text': '2010'}]}, {'label': ['Address'], 'points': [{'start': 1176, 'end': 1181, 'text': 'Orissa'}]}, {'label': ['College Name'], 'points': [{'start': 1134, 'end': 1160, 'text': 'Science College, Hinjilicut'}]}, {'label': ['Degree'], 'points': [{'start': 1122, 'end': 1131, 'text': 'Accounting'}]}, {'label': ['Graduation Year'], 'points': [{'start': 1116, 'end': 1119, 'text': '2013'}]}, {'label': ['Address'], 'points': [{'start': 1108, 'end': 1113, 'text': 'Orissa'}]}, {'label': ['College Name'], 'points': [{'start': 1073, 'end': 1092, 'text': 'Berhampur university'}]}, {'label': ['Degree'], 'points': [{'start': 1051, 'end': 1071, 'text': 'Bachelor in Commerce\\n'}]}, {'label': ['Graduation Year'], 'points': [{'start': 1045, 'end': 1049, 'text': '2015\\n'}]}, {'label': ['Address'], 'points': [{'start': 1037, 'end': 1042, 'text': 'Orissa'}]}, {'label': ['College Name'], 'points': [{'start': 993, 'end': 1021, 'text': 'Khallikote Autonomous college'}]}, {'label': ['Degree'], 'points': [{'start': 955, 'end': 990, 'text': 'Master of Finance and Control in MFC'}]}, {'label': ['Companies worked at'], 'points': [{'start': 446, 'end': 473, 'text': 'Oracle India Private Limited'}]}, {'label': ['Years of Experience'], 'points': [{'start': 420, 'end': 439, 'text': '2 Year of experience'}]}, {'label': ['Companies worked at'], 'points': [{'start': 365, 'end': 392, 'text': 'Oracle India Private Limited'}]}, {'label': ['Designation'], 'points': [{'start': 342, 'end': 362, 'text': 'Transaction Processor'}]}, {'label': ['Email Address'], 'points': [{'start': 113, 'end': 157, 'text': 'indeed.com/r/Ashalata-Bisoyi/cf02125911cfb5df'}]}, {'label': ['Location'], 'points': [{'start': 70, 'end': 78, 'text': 'Bengaluru'}]}, {'label': ['Companies worked at'], 'points': [{'start': 40, 'end': 67, 'text': 'Oracle India Private Limited'}]}, {'label': ['Designation'], 'points': [{'start': 16, 'end': 36, 'text': 'Transaction Processor'}]}, {'label': ['Name'], 'points': [{'start': 0, 'end': 14, 'text': 'Ashalata Bisoyi'}]}]\n"
     ]
    }
   ],
   "source": [
    "print(\"part of resume content:\")\n",
    "print_sep('-')\n",
    "print('\\n'.join(resume['content'].splitlines()[:5]))\n",
    "print_sep('=')\n",
    "\n",
    "print(\"resume entity list:\")\n",
    "print_sep('-')\n",
    "print(resume['annotation'])"
   ]
  },
  {
   "cell_type": "markdown",
   "metadata": {},
   "source": [
    "##### Explore the list of entity labels\n",
    "The entity list is a list of dictionaries:"
   ]
  },
  {
   "cell_type": "code",
   "execution_count": 6,
   "metadata": {},
   "outputs": [
    {
     "name": "stdout",
     "output_type": "stream",
     "text": [
      "entity list:\n",
      "--------------------------------------------------------------------------------\n",
      "{'label': ['Skills'], 'points': [{'start': 1710, 'end': 1720, 'text': 'M.S. OFFICE'}]}\n",
      "--------------------------------------------------------------------------------\n",
      "{'label': ['Skills'], 'points': [{'start': 1692, 'end': 1706, 'text': ' DOEACC O LEVEL'}]}\n",
      "--------------------------------------------------------------------------------\n",
      "{'label': ['Address'], 'points': [{'start': 1436, 'end': 1441, 'text': 'Orissa'}]}\n",
      "--------------------------------------------------------------------------------\n",
      "{'label': ['Degree'], 'points': [{'start': 1404, 'end': 1432, 'text': 'Board of Secondary Education '}]}\n",
      "--------------------------------------------------------------------------------\n",
      "{'label': ['Email Address'], 'points': [{'start': 1315, 'end': 1359, 'text': 'indeed.com/r/Ashalata-Bisoyi/cf02125911cfb5df'}]}\n",
      "--------------------------------------------------------------------------------\n",
      "{'label': ['Links'], 'points': [{'start': 1303, 'end': 1400, 'text': 'https://www.indeed.com/r/Ashalata-Bisoyi/cf02125911cfb5df?isid=rex-download&ikw=download-top&co=IN'}]}\n",
      "--------------------------------------------------------------------------------\n",
      "{'label': ['Address'], 'points': [{'start': 1295, 'end': 1300, 'text': 'Orissa'}]}\n",
      "--------------------------------------------------------------------------------\n",
      "{'label': ['College Name'], 'points': [{'start': 1250, 'end': 1278, 'text': 'Government girls High school '}]}\n",
      "--------------------------------------------------------------------------------\n",
      "{'label': ['Graduation Year'], 'points': [{'start': 1244, 'end': 1247, 'text': '2008'}]}\n",
      "--------------------------------------------------------------------------------\n",
      "{'label': ['Address'], 'points': [{'start': 1232, 'end': 1237, 'text': 'Orissa'}]}\n",
      "--------------------------------------------------------------------------------\n",
      "{'label': ['Graduation Year'], 'points': [{'start': 1184, 'end': 1187, 'text': '2010'}]}\n",
      "--------------------------------------------------------------------------------\n",
      "{'label': ['Address'], 'points': [{'start': 1176, 'end': 1181, 'text': 'Orissa'}]}\n",
      "--------------------------------------------------------------------------------\n",
      "{'label': ['College Name'], 'points': [{'start': 1134, 'end': 1160, 'text': 'Science College, Hinjilicut'}]}\n",
      "--------------------------------------------------------------------------------\n",
      "{'label': ['Degree'], 'points': [{'start': 1122, 'end': 1131, 'text': 'Accounting'}]}\n",
      "--------------------------------------------------------------------------------\n",
      "{'label': ['Graduation Year'], 'points': [{'start': 1116, 'end': 1119, 'text': '2013'}]}\n",
      "--------------------------------------------------------------------------------\n",
      "{'label': ['Address'], 'points': [{'start': 1108, 'end': 1113, 'text': 'Orissa'}]}\n",
      "--------------------------------------------------------------------------------\n",
      "{'label': ['College Name'], 'points': [{'start': 1073, 'end': 1092, 'text': 'Berhampur university'}]}\n",
      "--------------------------------------------------------------------------------\n",
      "{'label': ['Degree'], 'points': [{'start': 1051, 'end': 1071, 'text': 'Bachelor in Commerce\\n'}]}\n",
      "--------------------------------------------------------------------------------\n",
      "{'label': ['Graduation Year'], 'points': [{'start': 1045, 'end': 1049, 'text': '2015\\n'}]}\n",
      "--------------------------------------------------------------------------------\n",
      "{'label': ['Address'], 'points': [{'start': 1037, 'end': 1042, 'text': 'Orissa'}]}\n",
      "--------------------------------------------------------------------------------\n",
      "{'label': ['College Name'], 'points': [{'start': 993, 'end': 1021, 'text': 'Khallikote Autonomous college'}]}\n",
      "--------------------------------------------------------------------------------\n",
      "{'label': ['Degree'], 'points': [{'start': 955, 'end': 990, 'text': 'Master of Finance and Control in MFC'}]}\n",
      "--------------------------------------------------------------------------------\n",
      "{'label': ['Companies worked at'], 'points': [{'start': 446, 'end': 473, 'text': 'Oracle India Private Limited'}]}\n",
      "--------------------------------------------------------------------------------\n",
      "{'label': ['Years of Experience'], 'points': [{'start': 420, 'end': 439, 'text': '2 Year of experience'}]}\n",
      "--------------------------------------------------------------------------------\n",
      "{'label': ['Companies worked at'], 'points': [{'start': 365, 'end': 392, 'text': 'Oracle India Private Limited'}]}\n",
      "--------------------------------------------------------------------------------\n",
      "{'label': ['Designation'], 'points': [{'start': 342, 'end': 362, 'text': 'Transaction Processor'}]}\n",
      "--------------------------------------------------------------------------------\n",
      "{'label': ['Email Address'], 'points': [{'start': 113, 'end': 157, 'text': 'indeed.com/r/Ashalata-Bisoyi/cf02125911cfb5df'}]}\n",
      "--------------------------------------------------------------------------------\n",
      "{'label': ['Location'], 'points': [{'start': 70, 'end': 78, 'text': 'Bengaluru'}]}\n",
      "--------------------------------------------------------------------------------\n",
      "{'label': ['Companies worked at'], 'points': [{'start': 40, 'end': 67, 'text': 'Oracle India Private Limited'}]}\n",
      "--------------------------------------------------------------------------------\n",
      "{'label': ['Designation'], 'points': [{'start': 16, 'end': 36, 'text': 'Transaction Processor'}]}\n",
      "--------------------------------------------------------------------------------\n",
      "{'label': ['Name'], 'points': [{'start': 0, 'end': 14, 'text': 'Ashalata Bisoyi'}]}\n"
     ]
    }
   ],
   "source": [
    "entities = resume['annotation']\n",
    "\n",
    "print('entity list:')\n",
    "for entity_item in entities:\n",
    "    print_sep('-')\n",
    "    print(entity_item)"
   ]
  },
  {
   "cell_type": "markdown",
   "metadata": {},
   "source": [
    "##### Structure and datatype of entity entries\n",
    "keys: 'label' and 'points'\n",
    "values: list of str (for key 'label') / list of dict (for key 'points')\n",
    "##### Meaning of the entity entries\n",
    "label entry = descriptive name of the entity\n",
    "points entry = value(s) for that entity"
   ]
  },
  {
   "cell_type": "markdown",
   "metadata": {},
   "source": [
    "##### Convert  data to \"spacy\" offset format\n",
    "Before we go any further, we need to convert the data into a slightly more compact format. This format is the format we will be using to train our first models in the next part.\n",
    "\n",
    "**Note**: implemented slight changes to text data and entity offsets here to solve problems which became evident in part 2, namely:\n",
    "* replace unicode characters with ASCII characters (in the hope to reduce mismatch of tokenizer and entity offsets, but its main use is to map all characters used for lists to a single character which can be used later for sentence splitting)\n",
    "* exclude whitespace from entity annotations by adjusting offsets (having the most impact on reducing mismatch between tokenizer and entity offsets)"
   ]
  },
  {
   "cell_type": "code",
   "execution_count": 7,
   "metadata": {},
   "outputs": [
    {
     "name": "stdout",
     "output_type": "stream",
     "text": [
      "701 resumes converted\n"
     ]
    }
   ],
   "source": [
    "## data conversion method\n",
    "def convert_data(data):\n",
    "    \"\"\"\n",
    "    Creates NER training data in Spacy format from JSON dataset\n",
    "    Outputs the Spacy training data which can be used for Spacy training.\n",
    "    \"\"\"\n",
    "    text = data['content']\n",
    "    # replace problematic unicode symbols that confuse the tokenizer,\n",
    "    # leading to '-' where a BILOU tag should be\n",
    "    # must not change the string size! (-> replacing with empty string is not allowed)\n",
    "    char_replacement_map = {\n",
    "        '\\u2026': ' ',\n",
    "        ('\\u2022\\u27a2\\u25cf\\u2013\\u2756\\u2713\\u3013\\u2611'\n",
    "         '\\u25e6\\u2751\\u2663\\u2794\\u2666\\u21e8\\u2212\\u00b7'\n",
    "         '\\u2752\\u25c6\\u27b2\\u00c4\\u00ac\\u00d8\\u25c7\\u21d2'): '*',\n",
    "        '\\u2019\\u2018': \"'\",\n",
    "        '\\u201c\\u201d\\u035e\\u035f': '\"',\n",
    "        '\\u00e9': 'e',\n",
    "        '\\u00ae': 'R',\n",
    "        '\\u00e7': 'c',\n",
    "        '\\u00d7': 'x',\n",
    "        '\\u00e0': 'a',\n",
    "        '\\u00b5': 'u',\n",
    "        '\\u00a0': ' ',\n",
    "        #'\\n': ' ',\n",
    "    }\n",
    "    for chars_to_replace, replacement_char in char_replacement_map.items():\n",
    "        for c in chars_to_replace:\n",
    "            text = text.replace(c, replacement_char)\n",
    "    word_replacement_map = {\n",
    "        'Ltd.': 'Ltd ',\n",
    "        'Inc.': 'Inc ',\n",
    "    }\n",
    "    for word_to_replace, replacement_word in word_replacement_map.items():\n",
    "        text = text.replace(word_to_replace, replacement_word)\n",
    "    entities = []\n",
    "    if data['annotation'] is not None:\n",
    "        for annotation in data['annotation']:\n",
    "            point = annotation['points'][0]\n",
    "            start = point['start']\n",
    "            end = point['end']\n",
    "            # own modification: some labels don't start or stop at a word boundary\n",
    "            # needs to be fixed for compatibility with automatic tokenizers\n",
    "            # and to improve data quality\n",
    "            # reduces occurences of '-' entities in training data from ~900 to ~200\n",
    "            while text[end].isspace() and end > start:\n",
    "                end -= 1\n",
    "            while text[start].isspace() and start < end:\n",
    "                start += 1\n",
    "            # further corrections:\n",
    "            #if text[start].isalnum():\n",
    "            #    # shrink selection to exclude non-alphanumeric chars at end\n",
    "            #    while (not text[end].isalnum()) and end > start:\n",
    "            #        end -= 1\n",
    "            #    # grow selection to include following alphanumeric chars\n",
    "            #    while end < len(text)-1 and text[end+1].isalnum():\n",
    "            #        end += 1\n",
    "            # ^- commented out; reason: too aggressive\n",
    "            labels = annotation['label']\n",
    "            # handle both list of labels or a single label.\n",
    "            if not isinstance(labels, list):\n",
    "                labels = [labels]\n",
    "            for label in labels:\n",
    "                # dataturks indices are both inclusive [start, end] but spacy is not [start, end)\n",
    "                entities.append((start, end + 1, label))\n",
    "    return (text, {\"entities\": entities})\n",
    "   \n",
    "converted_resumes = [convert_data(resume) for resume in all_resumes]\n",
    "print('{} resumes converted'.format(len(converted_resumes)))"
   ]
  },
  {
   "cell_type": "markdown",
   "metadata": {},
   "source": [
    "##### New data structure\n",
    "converted to list of 2-tuples (content, {'entities': \\[(start, end+1, label1), ..., (start, end+1, labeln)\\]}) "
   ]
  },
  {
   "cell_type": "markdown",
   "metadata": {},
   "source": [
    "##### filter out resumes without annotations\n",
    "A few of the resumes have an empty entity list. We want to filter these resumes out of our data."
   ]
  },
  {
   "cell_type": "code",
   "execution_count": 8,
   "metadata": {},
   "outputs": [
    {
     "name": "stdout",
     "output_type": "stream",
     "text": [
      "removing duplicates dropped document count from 701 to 690\n"
     ]
    }
   ],
   "source": [
    "converted_resumes_with_empty_entities = converted_resumes\n",
    "# filter out resumes where resume entities list is None\n",
    "converted_resumes = [resume for resume in converted_resumes if len(resume[1]['entities']) != 0]\n",
    "print('removing duplicates dropped document count from {} to {}'.format(\n",
    "    len(converted_resumes_with_empty_entities), len(converted_resumes)\n",
    "))"
   ]
  },
  {
   "cell_type": "markdown",
   "metadata": {},
   "source": [
    "##### Print all entities for one converted resume"
   ]
  },
  {
   "cell_type": "code",
   "execution_count": 9,
   "metadata": {},
   "outputs": [
    {
     "name": "stdout",
     "output_type": "stream",
     "text": [
      "Skills = M.S. OFFICE\n",
      "Skills = DOEACC O LEVEL\n",
      "Address = Orissa\n",
      "Degree = Board of Secondary Education\n",
      "Email Address = indeed.com/r/Ashalata-Bisoyi/cf02125911cfb5df\n",
      "Links = https://www.indeed.com/r/Ashalata-Bisoyi/cf02125911cfb5df?isid=rex-download&ikw=download-top&co=IN\n",
      "Address = Orissa\n",
      "College Name = Government girls High school\n",
      "Graduation Year = 2008\n",
      "Address = Orissa\n",
      "Graduation Year = 2010\n",
      "Address = Orissa\n",
      "College Name = Science College, Hinjilicut\n",
      "Degree = Accounting\n",
      "Graduation Year = 2013\n",
      "Address = Orissa\n",
      "College Name = Berhampur university\n",
      "Degree = Bachelor in Commerce\n",
      "Graduation Year = 2015\n",
      "Address = Orissa\n",
      "College Name = Khallikote Autonomous college\n",
      "Degree = Master of Finance and Control in MFC\n",
      "Companies worked at = Oracle India Private Limited\n",
      "Years of Experience = 2 Year of experience\n",
      "Companies worked at = Oracle India Private Limited\n",
      "Designation = Transaction Processor\n",
      "Email Address = indeed.com/r/Ashalata-Bisoyi/cf02125911cfb5df\n",
      "Location = Bengaluru\n",
      "Companies worked at = Oracle India Private Limited\n",
      "Designation = Transaction Processor\n",
      "Name = Ashalata Bisoyi\n"
     ]
    }
   ],
   "source": [
    "# pick a random resume\n",
    "converted_resume = converted_resumes[5]\n",
    "# extract text and entities\n",
    "text = converted_resume[0]\n",
    "entities_list = converted_resume[1]['entities']\n",
    "# print entities for the chosen resume\n",
    "for (start, end, label) in entities_list:\n",
    "    print('{label} = {value}'.format(label=label, value=text[start:end]))"
   ]
  },
  {
   "cell_type": "markdown",
   "metadata": {},
   "source": [
    "##### Collect unique labels of all entities in dataset\n",
    "Now we are interested in finding out all of the (unique) entity labels which exist in our dataset."
   ]
  },
  {
   "cell_type": "code",
   "execution_count": 10,
   "metadata": {},
   "outputs": [
    {
     "name": "stdout",
     "output_type": "stream",
     "text": [
      "Entity labels\n",
      "================================================================================\n",
      "Address\n",
      "Can Relocate to\n",
      "Certifications\n",
      "College\n",
      "College Name\n",
      "Companies worked at\n",
      "Degree\n",
      "Designation\n",
      "Email Address\n",
      "Graduation Year\n",
      "Links\n",
      "Location\n",
      "Name\n",
      "Relocate to\n",
      "Rewards and Achievements\n",
      "Skills\n",
      "UNKNOWN\n",
      "University\n",
      "Years of Experience\n",
      "abc\n",
      "des\n",
      "links\n",
      "projects\n",
      "state\n",
      "training\n"
     ]
    }
   ],
   "source": [
    "## collect names of all entities in complete resume dataset\n",
    "all_labels = list()\n",
    "for res in converted_resumes:\n",
    "    entity_list = res[1]['entities']\n",
    "    all_labels.extend([label for (start, end, label) in entity_list])\n",
    "\n",
    "unique_labels = set(all_labels)\n",
    "print(\"Entity labels\")\n",
    "print_sep('=')\n",
    "for label in sorted(unique_labels):\n",
    "    print(label)"
   ]
  },
  {
   "cell_type": "markdown",
   "metadata": {},
   "source": [
    "##### Choice of up to 3 entities to use  for training a named entity recognition model\n",
    "Name, College Name, Companies worked at"
   ]
  },
  {
   "cell_type": "markdown",
   "metadata": {},
   "source": [
    "##### Validate entities\n",
    "Now we need to check that there is adequate training data for the entities chosen. "
   ]
  },
  {
   "cell_type": "code",
   "execution_count": 11,
   "metadata": {},
   "outputs": [
    {
     "name": "stdout",
     "output_type": "stream",
     "text": [
      "Docs with Name: 687\n",
      "Total count of Name: 826\n",
      "Docs with College Name: 497\n",
      "Total count of College Name: 1160\n",
      "Docs with Companies worked at: 627\n",
      "Total count of Companies worked at: 2830\n"
     ]
    }
   ],
   "source": [
    "chosen_entity_label = ['Name', 'College Name', 'Companies worked at']\n",
    "## for each chosen entity label, count how many documents have a labeled entity for that label,\n",
    "## and how many labeled entities total there are for that entity\n",
    "for label in chosen_entity_label:\n",
    "    found_docs_with_entity = 0\n",
    "    entity_count = 0\n",
    "    for resume in converted_resumes:\n",
    "        entity_list = resume[1][\"entities\"]\n",
    "        _,_,labels = zip(*entity_list)\n",
    "        if label in labels:\n",
    "            found_docs_with_entity+=1\n",
    "            entity_count+=len([l for l in labels if l == label])\n",
    "    print(\"Docs with {}: {}\".format(label,found_docs_with_entity))\n",
    "    print(\"Total count of {}: {}\".format(label,entity_count))"
   ]
  },
  {
   "cell_type": "markdown",
   "metadata": {},
   "source": [
    "#####  Adequate training data for the chosen entities is available (at least several hundred examples of each entity)"
   ]
  },
  {
   "cell_type": "markdown",
   "metadata": {},
   "source": [
    "##### Save converted data for the next part"
   ]
  },
  {
   "cell_type": "code",
   "execution_count": 12,
   "metadata": {},
   "outputs": [],
   "source": [
    "converted_resumes_path = \"converted_resumes.json\"\n",
    "with open(converted_resumes_path, 'wt') as output_file:\n",
    "    json.dump(converted_resumes, output_file)"
   ]
  },
  {
   "cell_type": "markdown",
   "metadata": {},
   "source": [
    "### Debugging problems with entity offsets"
   ]
  },
  {
   "cell_type": "code",
   "execution_count": 13,
   "metadata": {},
   "outputs": [
    {
     "name": "stdout",
     "output_type": "stream",
     "text": [
      "2019-06-19 02:06:05.768265: searching for resumes starting with Mahesh Vijay\n",
      "=================== raw resume ====================================\n",
      "\"Mahesh Vijay\\nBengaluru, Karnataka - Email me on Indeed: indeed.com/r/Mahesh-Vijay/a2584aabc9572c30\\n\\nOver 6.5 years of functional enriched experience in ERP in the Procurement to Pay domain. Was\\nassociated with Oracle India Pvt Ltd, Bangalore as Team lead - Supplier Data Management in\\ntheir Global Financial Information Centre (Global Shared Service Center) for Oracle's Business\\nfrom Sep 2007- Feb 2014.\\n\\nWilling to relocate: Anywhere\\n\\nWORK EXPERIENCE\\n\\nTeam lead - supplier data management\\n\\nOracle India -  Bangalore, Karnataka -\\n\\nMarch 2014 to December 2016\\n\\nManaging Partner of family business of Tours & Travels\\n\\nTeam Lead\\n\\nOracle India Pvt Ltd -\\n\\nOctober 2013 to February 2014\\n\\nSupplier Data Management\\n\\nLead Analyst -SME -Supplier Data Management\\n\\nOracle India Pvt Ltd -\\n\\nSeptember 2012 to October 2013\\n\\nSenior Analyst -Supplier Data Management\\n\\nOracle India Pvt Ltd -  Bengaluru, Karnataka -\\n\\nJanuary 2010 to September 2012\\n\\nAcademia\\n• Bachelors in Commerce (B.Com) from Vivekananda Degree College, Bangalore\\nUniversity(2007)\\n• Pre University from Vivekananda PU College, Bangalore(2004)\\n• Passed 10th STD from Angels High School, Bangalore(2002)\\nFunctional & Technical Expertise\\nFunctional\\n- Ensuring data quality in Purchasing Supplier management (PSM) registry and Trading\\nCommunity Architecture of the Oracle e-business suite bundle.\\n\\nhttps://www.indeed.com/r/Mahesh-Vijay/a2584aabc9572c30?isid=rex-download&ikw=download-top&co=IN\\n\\n\\n- Managing all projects and ensuring the completion of the same within timeframe. Projects\\nlike - Oracle Fusion Supplier Self Service, Supplier cleanup, migration of merger and acquisition\\nsuppliers, UAT\\n- Managing activities like synchronizing creation and updates of supplier records.\\n- Oracle Fusion - Related to Procurement modules -Fusion Supplier Portal\\n- Sound knowledge in the Oracle Financial applications domain that includes various cycles like\\nthe Expense Reporting, Accounts Payables, Accounts Receivables, and Tactical Purchasing.\\n- R12 User Acceptance Testing, writing test cases and author test reports which analyze the\\nreported defects.\\nTechnical\\n- Oracle Applications Releases: 12, 11.5, Oracle Applications Modules Purchasing, iProcurement\\n- Business Intelligence Reporting Tools: Oracle Discoverer & Accounting Software Tally 7.2\\nProjects & Accomplishments\\nOracle Master Data Management- Legacy Data Cleanup Project\\nRole:\\n• Global Country wise clean up initiative focusing on achieving a clean and accurate database\\n• Supplier Information retrieval based on information in Purchase orders\\nOracle Fusion UAT- Supplier Self Service\\nRole:\\n• Internal UAT-Part of upgrade team, testing all functionality and interfaces.\\n• Monitoring the new add on features in Fusion and old features assigned\\n\\n11i to R12 Migration- Manual UAT\\nRole:\\n• Testing for Supplier creations, Merges, Tax set ups, Withholding and TDS code, Bank details etc\\n• Monitoring the new add on features in R12 and old features assigned\\n\\nOracle Supplier Life Cycle Management (SLM) or Supplier Hub Project\\nRole:\\n• Internal UAT- testing all functionality and interfaces for creating a 360 degree view for each\\nand every supplier.\\n• Responsible for setting up suppliers' online, assisting requesters and suppliers to register a\\nsupplier and iSupplier access. Testing fast and flexible supplier searches that can be made into\\ntemplates resulting in quick report generation Create and test blended supplier records from\\nmultiple sources\\n\\nSKILLS\\n\\nBCP (6 years), Data Governance (6 years), Data Management (6 years), Oracle (6 years),\\nReporting Tools (6 years)\\n\\nADDITIONAL INFORMATION\\n\\nKey Skills\\n• Process Management & Improvement\\n• Operations & Team Management\\n• Data Governance & Automation\\n• Oracle E- Business Systems experience in Supplier Data/Vendor Data management\\n• BCP Policies & Procedures\\n\\n\\n\\n• Desk Manuals/Business Process & Navigation Documentation\\n• Business Ethics\\n• Professional Communication\\n• Reporting Tools & Microsoft Office Applications\"\n",
      "-------------------------------------------------------------------\n",
      "Skills = '\\n• Desk Manuals/Business Process & Navigation Documentation\\n• Business Ethics\\n• Professional Communication\\n• Reporting Tools & Microsoft Office Applications', offsets 3822-3977: 'es\\n\\n\\n' | '\\n• Desk Manuals/Business Process & Navigation Documentation\\n• Business Ethics\\n• Professional Communication\\n• Reporting Tools & Microsoft Office Applications' | ''\n",
      "Companies worked at = 'Oracle', offsets 3714-3719: 'on\\n• ' | 'Oracle' | ' E- B'\n",
      "Companies worked at = 'Oracle', offsets 3535-3540: 'rs), ' | 'Oracle' | ' (6 y'\n",
      "Skills = 'BCP (6 years), Data Governance (6 years), Data Management (6 years), Oracle (6 years),\\nReporting Tools (6 years)\\n\\nADDITIONAL INFORMATION\\n\\nKey Skills\\n• Process Management & Improvement\\n• Operations & Team Management\\n• Data Governance & Automation\\n• Oracle E- Business Systems experience in Supplier Data/Vendor Data management\\n• BCP Policies & Procedures', offsets 3466-3818: 'LLS\\n\\n' | 'BCP (6 years), Data Governance (6 years), Data Management (6 years), Oracle (6 years),\\nReporting Tools (6 years)\\n\\nADDITIONAL INFORMATION\\n\\nKey Skills\\n• Process Management & Improvement\\n• Operations & Team Management\\n• Data Governance & Automation\\n• Oracle E- Business Systems experience in Supplier Data/Vendor Data management\\n• BCP Policies & Procedures' | '\\n\\n\\n\\n•'\n",
      "Companies worked at = 'Oracle', offsets 2962-2967: 'ned\\n\\n' | 'Oracle' | ' Supp'\n",
      "Companies worked at = 'Oracle', offsets 2554-2559: 'ders\\n' | 'Oracle' | ' Fusi'\n",
      "Companies worked at = 'Oracle', offsets 2322-2327: 'ents\\n' | 'Oracle' | ' Mast'\n",
      "Companies worked at = 'Oracle', offsets 2245-2250: 'ols: ' | 'Oracle' | ' Disc'\n",
      "Companies worked at = 'Oracle', offsets 2151-2156: '1.5, ' | 'Oracle' | ' Appl'\n",
      "Companies worked at = 'Oracle', offsets 2111-2116: 'al\\n- ' | 'Oracle' | ' Appl'\n",
      "Companies worked at = 'Oracle', offsets 1829-1834: ' the ' | 'Oracle' | ' Fina'\n",
      "Companies worked at = 'Oracle', offsets 1733-1738: 's.\\n- ' | 'Oracle' | ' Fusi'\n",
      "Companies worked at = 'Oracle', offsets 1542-1547: 'ke - ' | 'Oracle' | ' Fusi'\n",
      "Email Address = 'indeed.com/r/Mahesh-Vijay/a2584aabc9572c30', offsets 1358-1399: '/www.' | 'indeed.com/r/Mahesh-Vijay/a2584aabc9572c30' | '?isid'\n",
      "Companies worked at = 'Oracle', offsets 1313-1318: ' the ' | 'Oracle' | ' e-bu'\n",
      "Graduation Year = '2004', offsets 1089-1092: 'lore(' | '2004' | ')\\n• P'\n",
      "College Name = 'Vivekananda PU College', offsets 1055-1076: 'from ' | 'Vivekananda PU College' | ', Ban'\n",
      "Graduation Year = '2007', offsets 1027-1030: 'sity(' | '2007' | ')\\n• P'\n",
      "College Name = 'Vivekananda Degree College, Bangalore\\nUniversity', offsets 978-1025: 'from ' | 'Vivekananda Degree College, Bangalore\\nUniversity' | '(2007'\n",
      "Degree = 'Bachelors in Commerce (B.Com) ', offsets 943-972: 'ia\\n• ' | 'Bachelors in Commerce (B.Com) ' | 'from '\n",
      "Location = 'Bengaluru', offsets 876-884: 'd -  ' | 'Bengaluru' | ', Kar'\n",
      "Companies worked at = 'Oracle', offsets 852-857: 'ent\\n\\n' | 'Oracle' | ' Indi'\n",
      "Designation = 'Senior Analyst -Supplier Data Management', offsets 810-849: '013\\n\\n' | 'Senior Analyst -Supplier Data Management' | '\\n\\nOra'\n",
      "Companies worked at = 'Oracle', offsets 754-759: 'ent\\n\\n' | 'Oracle' | ' Indi'\n",
      "Designation = 'Lead Analyst -SME -Supplier Data Management\\n', offsets 709-752: 'ent\\n\\n' | 'Lead Analyst -SME -Supplier Data Management\\n' | '\\nOrac'\n",
      "Companies worked at = 'Oracle', offsets 628-633: 'ead\\n\\n' | 'Oracle' | ' Indi'\n",
      "Companies worked at = 'Oracle', offsets 492-497: 'ent\\n\\n' | 'Oracle' | ' Indi'\n",
      "Designation = 'Team lead ', offsets 454-463: 'NCE\\n\\n' | 'Team lead ' | '- sup'\n",
      "Graduation Year = '2007', offsets 389-392: ' Sep ' | '2007' | '- Feb'\n",
      "Companies worked at = 'Oracle', offsets 362-367: ' for ' | 'Oracle' | \"'s Bu\"\n",
      "Designation = 'Team lead ', offsets 245-254: 'e as ' | 'Team lead ' | '- Sup'\n",
      "Companies worked at = 'Oracle', offsets 210-215: 'with ' | 'Oracle' | ' Indi'\n",
      "Years of Experience = '6.5 years', offsets 105-113: 'Over ' | '6.5 years' | ' of f'\n",
      "Email Address = 'indeed.com/r/Mahesh-Vijay/a2584aabc9572c30', offsets 56-97: 'eed: ' | 'indeed.com/r/Mahesh-Vijay/a2584aabc9572c30' | '\\n\\nOve'\n",
      "Location = 'Bengaluru', offsets 13-21: 'ijay\\n' | 'Bengaluru' | ', Kar'\n",
      "Name = 'Mahesh Vijay', offsets 0-11: '' | 'Mahesh Vijay' | '\\nBeng'\n",
      "=================== raw resume ====================================\n",
      "\"Mahesh Vijay\\nBengaluru, Karnataka - Email me on Indeed: indeed.com/r/Mahesh-Vijay/a2584aabc9572c30\\n\\nOver 6.5 years of functional enriched experience in ERP in the Procurement to Pay domain. Was\\nassociated with Oracle India Pvt Ltd, Bangalore as Team lead - Supplier Data Management in\\ntheir Global Financial Information Centre (Global Shared Service Center) for Oracle's Business\\nfrom Sep 2007- Feb 2014.\\n\\nWilling to relocate: Anywhere\\n\\nWORK EXPERIENCE\\n\\nTeam lead - supplier data management\\n\\nOracle India -  Bangalore, Karnataka -\\n\\nMarch 2014 to December 2016\\n\\nManaging Partner of family business of Tours & Travels\\n\\nTeam Lead\\n\\nOracle India Pvt Ltd -\\n\\nOctober 2013 to February 2014\\n\\nSupplier Data Management\\n\\nLead Analyst -SME -Supplier Data Management\\n\\nOracle India Pvt Ltd -\\n\\nSeptember 2012 to October 2013\\n\\nSenior Analyst -Supplier Data Management\\n\\nOracle India Pvt Ltd -  Bengaluru, Karnataka -\\n\\nJanuary 2010 to September 2012\\n\\nAcademia\\n• Bachelors in Commerce (B.Com) from Vivekananda Degree College, Bangalore\\nUniversity(2007)\\n• Pre University from Vivekananda PU College, Bangalore(2004)\\n• Passed 10th STD from Angels High School, Bangalore(2002)\\nFunctional & Technical Expertise\\nFunctional\\n- Ensuring data quality in Purchasing Supplier management (PSM) registry and Trading\\nCommunity Architecture of the Oracle e-business suite bundle.\\n\\nhttps://www.indeed.com/r/Mahesh-Vijay/a2584aabc9572c30?isid=rex-download&ikw=download-top&co=IN\\n\\n\\n- Managing all projects and ensuring the completion of the same within timeframe. Projects\\nlike - Oracle Fusion Supplier Self Service, Supplier cleanup, migration of merger and acquisition\\nsuppliers, UAT\\n- Managing activities like synchronizing creation and updates of supplier records.\\n- Oracle Fusion - Related to Procurement modules -Fusion Supplier Portal\\n- Sound knowledge in the Oracle Financial applications domain that includes various cycles like\\nthe Expense Reporting, Accounts Payables, Accounts Receivables, and Tactical Purchasing.\\n- R12 User Acceptance Testing, writing test cases and author test reports which analyze the\\nreported defects.\\nTechnical\\n- Oracle Applications Releases: 12, 11.5, Oracle Applications Modules Purchasing, iProcurement\\n- Business Intelligence Reporting Tools: Oracle Discoverer & Accounting Software Tally 7.2\\nProjects & Accomplishments\\nOracle Master Data Management- Legacy Data Cleanup Project\\nRole:\\n• Global Country wise clean up initiative focusing on achieving a clean and accurate database\\n• Supplier Information retrieval based on information in Purchase orders\\nOracle Fusion UAT- Supplier Self Service\\nRole:\\n• Internal UAT-Part of upgrade team, testing all functionality and interfaces.\\n• Monitoring the new add on features in Fusion and old features assigned\\n\\n11i to R12 Migration- Manual UAT\\nRole:\\n• Testing for Supplier creations, Merges, Tax set ups, Withholding and TDS code, Bank details etc\\n• Monitoring the new add on features in R12 and old features assigned\\n\\nOracle Supplier Life Cycle Management (SLM) or Supplier Hub Project\\nRole:\\n• Internal UAT- testing all functionality and interfaces for creating a 360 degree view for each\\nand every supplier.\\n• Responsible for setting up suppliers' online, assisting requesters and suppliers to register a\\nsupplier and iSupplier access. Testing fast and flexible supplier searches that can be made into\\ntemplates resulting in quick report generation Create and test blended supplier records from\\nmultiple sources\\n\\nSKILLS\\n\\nBCP (6 years), Data Governance (6 years), Data Management (6 years), Oracle (6 years),\\nReporting Tools (6 years)\\n\\nADDITIONAL INFORMATION\\n\\nKey Skills\\n• Process Management & Improvement\\n• Operations & Team Management\\n• Data Governance & Automation\\n• Oracle E- Business Systems experience in Supplier Data/Vendor Data management\\n• BCP Policies & Procedures\\n\\n\\n\\n• Desk Manuals/Business Process & Navigation Documentation\\n• Business Ethics\\n• Professional Communication\\n• Reporting Tools & Microsoft Office Applications\"\n",
      "-------------------------------------------------------------------\n",
      "Skills = '\\n• Desk Manuals/Business Process & Navigation Documentation\\n• Business Ethics\\n• Professional Communication\\n• Reporting Tools & Microsoft Office Applications', offsets 3822-3977: 'es\\n\\n\\n' | '\\n• Desk Manuals/Business Process & Navigation Documentation\\n• Business Ethics\\n• Professional Communication\\n• Reporting Tools & Microsoft Office Applications' | ''\n",
      "Companies worked at = 'Oracle', offsets 3714-3719: 'on\\n• ' | 'Oracle' | ' E- B'\n",
      "Companies worked at = 'Oracle', offsets 3535-3540: 'rs), ' | 'Oracle' | ' (6 y'\n",
      "Skills = 'BCP (6 years), Data Governance (6 years), Data Management (6 years), Oracle (6 years),\\nReporting Tools (6 years)\\n\\nADDITIONAL INFORMATION\\n\\nKey Skills\\n• Process Management & Improvement\\n• Operations & Team Management\\n• Data Governance & Automation\\n• Oracle E- Business Systems experience in Supplier Data/Vendor Data management\\n• BCP Policies & Procedures', offsets 3466-3818: 'LLS\\n\\n' | 'BCP (6 years), Data Governance (6 years), Data Management (6 years), Oracle (6 years),\\nReporting Tools (6 years)\\n\\nADDITIONAL INFORMATION\\n\\nKey Skills\\n• Process Management & Improvement\\n• Operations & Team Management\\n• Data Governance & Automation\\n• Oracle E- Business Systems experience in Supplier Data/Vendor Data management\\n• BCP Policies & Procedures' | '\\n\\n\\n\\n•'\n",
      "Companies worked at = 'Oracle', offsets 2962-2967: 'ned\\n\\n' | 'Oracle' | ' Supp'\n",
      "Companies worked at = 'Oracle', offsets 2554-2559: 'ders\\n' | 'Oracle' | ' Fusi'\n",
      "Companies worked at = 'Oracle', offsets 2322-2327: 'ents\\n' | 'Oracle' | ' Mast'\n",
      "Companies worked at = 'Oracle', offsets 2245-2250: 'ols: ' | 'Oracle' | ' Disc'\n",
      "Companies worked at = 'Oracle', offsets 2151-2156: '1.5, ' | 'Oracle' | ' Appl'\n",
      "Companies worked at = 'Oracle', offsets 2111-2116: 'al\\n- ' | 'Oracle' | ' Appl'\n"
     ]
    },
    {
     "name": "stdout",
     "output_type": "stream",
     "text": [
      "Companies worked at = 'Oracle', offsets 1829-1834: ' the ' | 'Oracle' | ' Fina'\n",
      "Companies worked at = 'Oracle', offsets 1733-1738: 's.\\n- ' | 'Oracle' | ' Fusi'\n",
      "Companies worked at = 'Oracle', offsets 1542-1547: 'ke - ' | 'Oracle' | ' Fusi'\n",
      "Email Address = 'indeed.com/r/Mahesh-Vijay/a2584aabc9572c30', offsets 1358-1399: '/www.' | 'indeed.com/r/Mahesh-Vijay/a2584aabc9572c30' | '?isid'\n",
      "Companies worked at = 'Oracle', offsets 1313-1318: ' the ' | 'Oracle' | ' e-bu'\n",
      "Graduation Year = '2004', offsets 1089-1092: 'lore(' | '2004' | ')\\n• P'\n",
      "College Name = 'Vivekananda PU College', offsets 1055-1076: 'from ' | 'Vivekananda PU College' | ', Ban'\n",
      "Graduation Year = '2007', offsets 1027-1030: 'sity(' | '2007' | ')\\n• P'\n",
      "College Name = 'Vivekananda Degree College, Bangalore\\nUniversity', offsets 978-1025: 'from ' | 'Vivekananda Degree College, Bangalore\\nUniversity' | '(2007'\n",
      "Degree = 'Bachelors in Commerce (B.Com) ', offsets 943-972: 'ia\\n• ' | 'Bachelors in Commerce (B.Com) ' | 'from '\n",
      "Location = 'Bengaluru', offsets 876-884: 'd -  ' | 'Bengaluru' | ', Kar'\n",
      "Companies worked at = 'Oracle', offsets 852-857: 'ent\\n\\n' | 'Oracle' | ' Indi'\n",
      "Designation = 'Senior Analyst -Supplier Data Management', offsets 810-849: '013\\n\\n' | 'Senior Analyst -Supplier Data Management' | '\\n\\nOra'\n",
      "Companies worked at = 'Oracle', offsets 754-759: 'ent\\n\\n' | 'Oracle' | ' Indi'\n",
      "Designation = 'Lead Analyst -SME -Supplier Data Management\\n', offsets 709-752: 'ent\\n\\n' | 'Lead Analyst -SME -Supplier Data Management\\n' | '\\nOrac'\n",
      "Companies worked at = 'Oracle', offsets 628-633: 'ead\\n\\n' | 'Oracle' | ' Indi'\n",
      "Companies worked at = 'Oracle', offsets 492-497: 'ent\\n\\n' | 'Oracle' | ' Indi'\n",
      "Designation = 'Team lead ', offsets 454-463: 'NCE\\n\\n' | 'Team lead ' | '- sup'\n",
      "Graduation Year = '2007', offsets 389-392: ' Sep ' | '2007' | '- Feb'\n",
      "Companies worked at = 'Oracle', offsets 362-367: ' for ' | 'Oracle' | \"'s Bu\"\n",
      "Designation = 'Team lead ', offsets 245-254: 'e as ' | 'Team lead ' | '- Sup'\n",
      "Companies worked at = 'Oracle', offsets 210-215: 'with ' | 'Oracle' | ' Indi'\n",
      "Years of Experience = '6.5 years', offsets 105-113: 'Over ' | '6.5 years' | ' of f'\n",
      "Email Address = 'indeed.com/r/Mahesh-Vijay/a2584aabc9572c30', offsets 56-97: 'eed: ' | 'indeed.com/r/Mahesh-Vijay/a2584aabc9572c30' | '\\n\\nOve'\n",
      "Location = 'Bengaluru', offsets 13-21: 'ijay\\n' | 'Bengaluru' | ', Kar'\n",
      "Name = 'Mahesh Vijay', offsets 0-11: '' | 'Mahesh Vijay' | '\\nBeng'\n",
      "=================== converted resume ==============================\n",
      "\"Mahesh Vijay\\nBengaluru, Karnataka - Email me on Indeed: indeed.com/r/Mahesh-Vijay/a2584aabc9572c30\\n\\nOver 6.5 years of functional enriched experience in ERP in the Procurement to Pay domain. Was\\nassociated with Oracle India Pvt Ltd, Bangalore as Team lead - Supplier Data Management in\\ntheir Global Financial Information Centre (Global Shared Service Center) for Oracle's Business\\nfrom Sep 2007- Feb 2014.\\n\\nWilling to relocate: Anywhere\\n\\nWORK EXPERIENCE\\n\\nTeam lead - supplier data management\\n\\nOracle India -  Bangalore, Karnataka -\\n\\nMarch 2014 to December 2016\\n\\nManaging Partner of family business of Tours & Travels\\n\\nTeam Lead\\n\\nOracle India Pvt Ltd -\\n\\nOctober 2013 to February 2014\\n\\nSupplier Data Management\\n\\nLead Analyst -SME -Supplier Data Management\\n\\nOracle India Pvt Ltd -\\n\\nSeptember 2012 to October 2013\\n\\nSenior Analyst -Supplier Data Management\\n\\nOracle India Pvt Ltd -  Bengaluru, Karnataka -\\n\\nJanuary 2010 to September 2012\\n\\nAcademia\\n* Bachelors in Commerce (B.Com) from Vivekananda Degree College, Bangalore\\nUniversity(2007)\\n* Pre University from Vivekananda PU College, Bangalore(2004)\\n* Passed 10th STD from Angels High School, Bangalore(2002)\\nFunctional & Technical Expertise\\nFunctional\\n- Ensuring data quality in Purchasing Supplier management (PSM) registry and Trading\\nCommunity Architecture of the Oracle e-business suite bundle.\\n\\nhttps://www.indeed.com/r/Mahesh-Vijay/a2584aabc9572c30?isid=rex-download&ikw=download-top&co=IN\\n\\n\\n- Managing all projects and ensuring the completion of the same within timeframe. Projects\\nlike - Oracle Fusion Supplier Self Service, Supplier cleanup, migration of merger and acquisition\\nsuppliers, UAT\\n- Managing activities like synchronizing creation and updates of supplier records.\\n- Oracle Fusion - Related to Procurement modules -Fusion Supplier Portal\\n- Sound knowledge in the Oracle Financial applications domain that includes various cycles like\\nthe Expense Reporting, Accounts Payables, Accounts Receivables, and Tactical Purchasing.\\n- R12 User Acceptance Testing, writing test cases and author test reports which analyze the\\nreported defects.\\nTechnical\\n- Oracle Applications Releases: 12, 11.5, Oracle Applications Modules Purchasing, iProcurement\\n- Business Intelligence Reporting Tools: Oracle Discoverer & Accounting Software Tally 7.2\\nProjects & Accomplishments\\nOracle Master Data Management- Legacy Data Cleanup Project\\nRole:\\n* Global Country wise clean up initiative focusing on achieving a clean and accurate database\\n* Supplier Information retrieval based on information in Purchase orders\\nOracle Fusion UAT- Supplier Self Service\\nRole:\\n* Internal UAT-Part of upgrade team, testing all functionality and interfaces.\\n* Monitoring the new add on features in Fusion and old features assigned\\n\\n11i to R12 Migration- Manual UAT\\nRole:\\n* Testing for Supplier creations, Merges, Tax set ups, Withholding and TDS code, Bank details etc\\n* Monitoring the new add on features in R12 and old features assigned\\n\\nOracle Supplier Life Cycle Management (SLM) or Supplier Hub Project\\nRole:\\n* Internal UAT- testing all functionality and interfaces for creating a 360 degree view for each\\nand every supplier.\\n* Responsible for setting up suppliers' online, assisting requesters and suppliers to register a\\nsupplier and iSupplier access. Testing fast and flexible supplier searches that can be made into\\ntemplates resulting in quick report generation Create and test blended supplier records from\\nmultiple sources\\n\\nSKILLS\\n\\nBCP (6 years), Data Governance (6 years), Data Management (6 years), Oracle (6 years),\\nReporting Tools (6 years)\\n\\nADDITIONAL INFORMATION\\n\\nKey Skills\\n* Process Management & Improvement\\n* Operations & Team Management\\n* Data Governance & Automation\\n* Oracle E- Business Systems experience in Supplier Data/Vendor Data management\\n* BCP Policies & Procedures\\n\\n\\n\\n* Desk Manuals/Business Process & Navigation Documentation\\n* Business Ethics\\n* Professional Communication\\n* Reporting Tools & Microsoft Office Applications\"\n",
      "-------------------------------------------------------------------\n",
      "Name = '' | 'Mahesh Vijay' | '\\nBeng'\n",
      "Location = 'ijay\\n' | 'Bengaluru' | ', Kar'\n",
      "Email Address = 'eed: ' | 'indeed.com/r/Mahesh-Vijay/a2584aabc9572c30' | '\\n\\nOve'\n",
      "Years of Experience = 'Over ' | '6.5 years' | ' of f'\n",
      "Companies worked at = 'with ' | 'Oracle' | ' Indi'\n",
      "Designation = 'e as ' | 'Team lead' | ' - Su'\n",
      "Companies worked at = ' for ' | 'Oracle' | \"'s Bu\"\n",
      "Graduation Year = ' Sep ' | '2007' | '- Feb'\n",
      "Designation = 'NCE\\n\\n' | 'Team lead' | ' - su'\n",
      "Companies worked at = 'ent\\n\\n' | 'Oracle' | ' Indi'\n",
      "Companies worked at = 'ead\\n\\n' | 'Oracle' | ' Indi'\n",
      "Designation = 'ent\\n\\n' | 'Lead Analyst -SME -Supplier Data Management' | '\\n\\nOra'\n",
      "Companies worked at = 'ent\\n\\n' | 'Oracle' | ' Indi'\n",
      "Designation = '013\\n\\n' | 'Senior Analyst -Supplier Data Management' | '\\n\\nOra'\n",
      "Companies worked at = 'ent\\n\\n' | 'Oracle' | ' Indi'\n",
      "Location = 'd -  ' | 'Bengaluru' | ', Kar'\n",
      "Degree = 'ia\\n* ' | 'Bachelors in Commerce (B.Com)' | ' from'\n",
      "College Name = 'from ' | 'Vivekananda Degree College, Bangalore\\nUniversity' | '(2007'\n",
      "Graduation Year = 'sity(' | '2007' | ')\\n* P'\n",
      "College Name = 'from ' | 'Vivekananda PU College' | ', Ban'\n",
      "Graduation Year = 'lore(' | '2004' | ')\\n* P'\n",
      "Companies worked at = ' the ' | 'Oracle' | ' e-bu'\n",
      "Email Address = '/www.' | 'indeed.com/r/Mahesh-Vijay/a2584aabc9572c30' | '?isid'\n",
      "Companies worked at = 'ke - ' | 'Oracle' | ' Fusi'\n",
      "Companies worked at = 's.\\n- ' | 'Oracle' | ' Fusi'\n",
      "Companies worked at = ' the ' | 'Oracle' | ' Fina'\n",
      "Companies worked at = 'al\\n- ' | 'Oracle' | ' Appl'\n",
      "Companies worked at = '1.5, ' | 'Oracle' | ' Appl'\n",
      "Companies worked at = 'ols: ' | 'Oracle' | ' Disc'\n",
      "Companies worked at = 'ents\\n' | 'Oracle' | ' Mast'\n",
      "Companies worked at = 'ders\\n' | 'Oracle' | ' Fusi'\n",
      "Companies worked at = 'ned\\n\\n' | 'Oracle' | ' Supp'\n",
      "Skills = 'LLS\\n\\n' | 'BCP (6 years), Data Governance (6 years), Data Management (6 years), Oracle (6 years),\\nReporting Tools (6 years)\\n\\nADDITIONAL INFORMATION\\n\\nKey Skills\\n* Process Management & Improvement\\n* Operations & Team Management\\n* Data Governance & Automation\\n* Oracle E- Business Systems experience in Supplier Data/Vendor Data management\\n* BCP Policies & Procedures' | '\\n\\n\\n\\n*'\n",
      "Companies worked at = 'rs), ' | 'Oracle' | ' (6 y'\n",
      "Companies worked at = 'on\\n* ' | 'Oracle' | ' E- B'\n",
      "Skills = 's\\n\\n\\n\\n' | '* Desk Manuals/Business Process & Navigation Documentation\\n* Business Ethics\\n* Professional Communication\\n* Reporting Tools & Microsoft Office Applications' | ''\n",
      "=================== converted resume ==============================\n",
      "\"Mahesh Vijay\\nBengaluru, Karnataka - Email me on Indeed: indeed.com/r/Mahesh-Vijay/a2584aabc9572c30\\n\\nOver 6.5 years of functional enriched experience in ERP in the Procurement to Pay domain. Was\\nassociated with Oracle India Pvt Ltd, Bangalore as Team lead - Supplier Data Management in\\ntheir Global Financial Information Centre (Global Shared Service Center) for Oracle's Business\\nfrom Sep 2007- Feb 2014.\\n\\nWilling to relocate: Anywhere\\n\\nWORK EXPERIENCE\\n\\nTeam lead - supplier data management\\n\\nOracle India -  Bangalore, Karnataka -\\n\\nMarch 2014 to December 2016\\n\\nManaging Partner of family business of Tours & Travels\\n\\nTeam Lead\\n\\nOracle India Pvt Ltd -\\n\\nOctober 2013 to February 2014\\n\\nSupplier Data Management\\n\\nLead Analyst -SME -Supplier Data Management\\n\\nOracle India Pvt Ltd -\\n\\nSeptember 2012 to October 2013\\n\\nSenior Analyst -Supplier Data Management\\n\\nOracle India Pvt Ltd -  Bengaluru, Karnataka -\\n\\nJanuary 2010 to September 2012\\n\\nAcademia\\n* Bachelors in Commerce (B.Com) from Vivekananda Degree College, Bangalore\\nUniversity(2007)\\n* Pre University from Vivekananda PU College, Bangalore(2004)\\n* Passed 10th STD from Angels High School, Bangalore(2002)\\nFunctional & Technical Expertise\\nFunctional\\n- Ensuring data quality in Purchasing Supplier management (PSM) registry and Trading\\nCommunity Architecture of the Oracle e-business suite bundle.\\n\\nhttps://www.indeed.com/r/Mahesh-Vijay/a2584aabc9572c30?isid=rex-download&ikw=download-top&co=IN\\n\\n\\n- Managing all projects and ensuring the completion of the same within timeframe. Projects\\nlike - Oracle Fusion Supplier Self Service, Supplier cleanup, migration of merger and acquisition\\nsuppliers, UAT\\n- Managing activities like synchronizing creation and updates of supplier records.\\n- Oracle Fusion - Related to Procurement modules -Fusion Supplier Portal\\n- Sound knowledge in the Oracle Financial applications domain that includes various cycles like\\nthe Expense Reporting, Accounts Payables, Accounts Receivables, and Tactical Purchasing.\\n- R12 User Acceptance Testing, writing test cases and author test reports which analyze the\\nreported defects.\\nTechnical\\n- Oracle Applications Releases: 12, 11.5, Oracle Applications Modules Purchasing, iProcurement\\n- Business Intelligence Reporting Tools: Oracle Discoverer & Accounting Software Tally 7.2\\nProjects & Accomplishments\\nOracle Master Data Management- Legacy Data Cleanup Project\\nRole:\\n* Global Country wise clean up initiative focusing on achieving a clean and accurate database\\n* Supplier Information retrieval based on information in Purchase orders\\nOracle Fusion UAT- Supplier Self Service\\nRole:\\n* Internal UAT-Part of upgrade team, testing all functionality and interfaces.\\n* Monitoring the new add on features in Fusion and old features assigned\\n\\n11i to R12 Migration- Manual UAT\\nRole:\\n* Testing for Supplier creations, Merges, Tax set ups, Withholding and TDS code, Bank details etc\\n* Monitoring the new add on features in R12 and old features assigned\\n\\nOracle Supplier Life Cycle Management (SLM) or Supplier Hub Project\\nRole:\\n* Internal UAT- testing all functionality and interfaces for creating a 360 degree view for each\\nand every supplier.\\n* Responsible for setting up suppliers' online, assisting requesters and suppliers to register a\\nsupplier and iSupplier access. Testing fast and flexible supplier searches that can be made into\\ntemplates resulting in quick report generation Create and test blended supplier records from\\nmultiple sources\\n\\nSKILLS\\n\\nBCP (6 years), Data Governance (6 years), Data Management (6 years), Oracle (6 years),\\nReporting Tools (6 years)\\n\\nADDITIONAL INFORMATION\\n\\nKey Skills\\n* Process Management & Improvement\\n* Operations & Team Management\\n* Data Governance & Automation\\n* Oracle E- Business Systems experience in Supplier Data/Vendor Data management\\n* BCP Policies & Procedures\\n\\n\\n\\n* Desk Manuals/Business Process & Navigation Documentation\\n* Business Ethics\\n* Professional Communication\\n* Reporting Tools & Microsoft Office Applications\"\n",
      "-------------------------------------------------------------------\n",
      "Name = '' | 'Mahesh Vijay' | '\\nBeng'\n",
      "Location = 'ijay\\n' | 'Bengaluru' | ', Kar'\n",
      "Email Address = 'eed: ' | 'indeed.com/r/Mahesh-Vijay/a2584aabc9572c30' | '\\n\\nOve'\n",
      "Years of Experience = 'Over ' | '6.5 years' | ' of f'\n",
      "Companies worked at = 'with ' | 'Oracle' | ' Indi'\n",
      "Designation = 'e as ' | 'Team lead' | ' - Su'\n",
      "Companies worked at = ' for ' | 'Oracle' | \"'s Bu\"\n",
      "Graduation Year = ' Sep ' | '2007' | '- Feb'\n",
      "Designation = 'NCE\\n\\n' | 'Team lead' | ' - su'\n",
      "Companies worked at = 'ent\\n\\n' | 'Oracle' | ' Indi'\n",
      "Companies worked at = 'ead\\n\\n' | 'Oracle' | ' Indi'\n",
      "Designation = 'ent\\n\\n' | 'Lead Analyst -SME -Supplier Data Management' | '\\n\\nOra'\n",
      "Companies worked at = 'ent\\n\\n' | 'Oracle' | ' Indi'\n",
      "Designation = '013\\n\\n' | 'Senior Analyst -Supplier Data Management' | '\\n\\nOra'\n",
      "Companies worked at = 'ent\\n\\n' | 'Oracle' | ' Indi'\n",
      "Location = 'd -  ' | 'Bengaluru' | ', Kar'\n",
      "Degree = 'ia\\n* ' | 'Bachelors in Commerce (B.Com)' | ' from'\n",
      "College Name = 'from ' | 'Vivekananda Degree College, Bangalore\\nUniversity' | '(2007'\n",
      "Graduation Year = 'sity(' | '2007' | ')\\n* P'\n",
      "College Name = 'from ' | 'Vivekananda PU College' | ', Ban'\n",
      "Graduation Year = 'lore(' | '2004' | ')\\n* P'\n",
      "Companies worked at = ' the ' | 'Oracle' | ' e-bu'\n",
      "Email Address = '/www.' | 'indeed.com/r/Mahesh-Vijay/a2584aabc9572c30' | '?isid'\n",
      "Companies worked at = 'ke - ' | 'Oracle' | ' Fusi'\n",
      "Companies worked at = 's.\\n- ' | 'Oracle' | ' Fusi'\n",
      "Companies worked at = ' the ' | 'Oracle' | ' Fina'\n",
      "Companies worked at = 'al\\n- ' | 'Oracle' | ' Appl'\n",
      "Companies worked at = '1.5, ' | 'Oracle' | ' Appl'\n",
      "Companies worked at = 'ols: ' | 'Oracle' | ' Disc'\n",
      "Companies worked at = 'ents\\n' | 'Oracle' | ' Mast'\n",
      "Companies worked at = 'ders\\n' | 'Oracle' | ' Fusi'\n",
      "Companies worked at = 'ned\\n\\n' | 'Oracle' | ' Supp'\n",
      "Skills = 'LLS\\n\\n' | 'BCP (6 years), Data Governance (6 years), Data Management (6 years), Oracle (6 years),\\nReporting Tools (6 years)\\n\\nADDITIONAL INFORMATION\\n\\nKey Skills\\n* Process Management & Improvement\\n* Operations & Team Management\\n* Data Governance & Automation\\n* Oracle E- Business Systems experience in Supplier Data/Vendor Data management\\n* BCP Policies & Procedures' | '\\n\\n\\n\\n*'\n"
     ]
    },
    {
     "name": "stdout",
     "output_type": "stream",
     "text": [
      "Companies worked at = 'rs), ' | 'Oracle' | ' (6 y'\n",
      "Companies worked at = 'on\\n* ' | 'Oracle' | ' E- B'\n",
      "Skills = 's\\n\\n\\n\\n' | '* Desk Manuals/Business Process & Navigation Documentation\\n* Business Ethics\\n* Professional Communication\\n* Reporting Tools & Microsoft Office Applications' | ''\n"
     ]
    }
   ],
   "source": [
    "import datetime\n",
    "\n",
    "name_to_search = 'Mahesh Vijay'  # set to None to deactivate\n",
    "\n",
    "def print_raw_resume(resume):\n",
    "    \"\"\"\n",
    "    prints content and entities of a raw resume, especially printing\n",
    "    context (5 characters) around the annotated entity to track down errors\n",
    "    with entity offsets\n",
    "    \"\"\"\n",
    "    print('=================== raw resume ====================================')\n",
    "    text = resume['content']\n",
    "    print(repr(text))\n",
    "    print('-------------------------------------------------------------------')\n",
    "    if 'annotation' not in resume or resume['annotation'] is None or len(resume['annotation']) == 0:\n",
    "        return\n",
    "    ents = resume['annotation']\n",
    "    for ent in ents:\n",
    "        label = ', '.join(ent['label'])\n",
    "        point = ent['points'][0]\n",
    "        start = point['start']\n",
    "        end = point['end']\n",
    "        referenced_text = point['text']\n",
    "        print('{} = {}, offsets {}-{}: {} | {} | {}'.format(\n",
    "            label, repr(referenced_text), start, end,\n",
    "            repr(text[max(0,start-5):start]),\n",
    "            repr(text[start:end+1]),\n",
    "            repr(text[min(len(text)-1,end+1):min(len(text)-1,end+6)])\n",
    "        ))\n",
    "\n",
    "def print_converted_resume(resume):\n",
    "    \"\"\"\n",
    "    prints content and entities of a converted resume, especially printing\n",
    "    context (5 characters) around the annotated entity to track down errors\n",
    "    with entity offsets\n",
    "    \"\"\"\n",
    "    print('=================== converted resume ==============================')\n",
    "    text = resume[0]\n",
    "    print(repr(text))\n",
    "    print('-------------------------------------------------------------------')\n",
    "    ents = sorted(resume[1]['entities'], key=(lambda start_end_label_list: start_end_label_list[0]))\n",
    "    for ent in ents:\n",
    "        start = ent[0]\n",
    "        end = ent[1]\n",
    "        print('{} = {} | {} | {}'.format(\n",
    "            ent[2],\n",
    "            repr(text[max(0,start-5):start]),\n",
    "            repr(text[start:end]),\n",
    "            repr(text[min(len(text)-1,end):min(len(text)-1,end+5)])\n",
    "        ))\n",
    "\n",
    "\n",
    "if name_to_search is not None and len(name_to_search) > 0:        \n",
    "    print('{}: searching for resumes starting with {}'.format(\n",
    "        datetime.datetime.now(), name_to_search\n",
    "    ))\n",
    "    for res in all_resumes:\n",
    "        if res['content'].startswith(name_to_search):\n",
    "            print_raw_resume(res)\n",
    "    for res in converted_resumes:\n",
    "        if res[0].startswith(name_to_search):\n",
    "            print_converted_resume(res)"
   ]
  }
 ],
 "metadata": {
  "kernelspec": {
   "display_name": "Python 3",
   "language": "python",
   "name": "python3"
  },
  "language_info": {
   "codemirror_mode": {
    "name": "ipython",
    "version": 3
   },
   "file_extension": ".py",
   "mimetype": "text/x-python",
   "name": "python",
   "nbconvert_exporter": "python",
   "pygments_lexer": "ipython3",
   "version": "3.6.7"
  }
 },
 "nbformat": 4,
 "nbformat_minor": 2
}
