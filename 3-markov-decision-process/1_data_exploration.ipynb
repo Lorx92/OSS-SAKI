{
 "cells": [
  {
   "cell_type": "markdown",
   "metadata": {},
   "source": [
    "# Data Exploration and Analysis"
   ]
  },
  {
   "cell_type": "code",
   "execution_count": 1,
   "metadata": {},
   "outputs": [
    {
     "name": "stdout",
     "output_type": "stream",
     "text": [
      "data/3x2/warehousetraining.txt\n",
      "-----------------------------------------------------------\n",
      "12108 requests total\n",
      "6054 store requests, 6054 restore requests\n",
      "8196 requests (0.68) with the same verb as the one before\n",
      "min 0 / max 6 / avg 3.01 / final 0\n",
      "blue  min 0 / max 5 / avg 0.85 / final 0 / request share 0.25\n",
      "red   min 0 / max 6 / avg 1.31 / final 0 / request share 0.49\n",
      "white min 0 / max 5 / avg 0.86 / final 0 / request share 0.26\n",
      "at 0 items: 0.056 store / 0.000 restore\n",
      "            0.000 store after store / 0.000 restore after restore\n",
      "            0.056 store after restore / 0.000 restore after store\n",
      "at 1 items: 0.088 store / 0.056 restore\n",
      "            0.051 store after store / 0.051 restore after restore\n",
      "            0.037 store after restore / 0.005 restore after store\n",
      "at 2 items: 0.105 store / 0.088 restore\n",
      "            0.076 store after store / 0.076 restore after restore\n",
      "            0.029 store after restore / 0.012 restore after store\n",
      "at 3 items: 0.106 store / 0.105 restore\n",
      "            0.084 store after store / 0.084 restore after restore\n",
      "            0.022 store after restore / 0.021 restore after store\n",
      "at 4 items: 0.089 store / 0.106 restore\n",
      "            0.077 store after store / 0.077 restore after restore\n",
      "            0.012 store after restore / 0.029 restore after store\n",
      "at 5 items: 0.056 store / 0.089 restore\n",
      "            0.051 store after store / 0.051 restore after restore\n",
      "            0.006 store after restore / 0.038 restore after store\n",
      "at 6 items: 0.000 store / 0.056 restore\n",
      "            0.000 store after store / 0.000 restore after restore\n",
      "            0.000 store after restore / 0.056 restore after store\n",
      "\n",
      "data/3x2/warehouseorder.txt\n",
      "-----------------------------------------------------------\n",
      "60 requests total\n",
      "30 store requests, 30 restore requests\n",
      "40 requests (0.67) with the same verb as the one before\n",
      "min 0 / max 6 / avg 3.07 / final 0\n",
      "blue  min 0 / max 3 / avg 0.58 / final 0 / request share 0.20\n",
      "red   min 0 / max 3 / avg 0.83 / final 0 / request share 0.37\n",
      "white min 0 / max 4 / avg 1.65 / final 0 / request share 0.43\n",
      "at 0 items: 0.067 store / 0.000 restore\n",
      "            0.000 store after store / 0.000 restore after restore\n",
      "            0.050 store after restore / 0.000 restore after store\n",
      "at 1 items: 0.083 store / 0.067 restore\n",
      "            0.050 store after store / 0.050 restore after restore\n",
      "            0.033 store after restore / 0.017 restore after store\n",
      "at 2 items: 0.083 store / 0.083 restore\n",
      "            0.083 store after store / 0.083 restore after restore\n",
      "            0.000 store after restore / 0.000 restore after store\n",
      "at 3 items: 0.100 store / 0.083 restore\n",
      "            0.050 store after store / 0.050 restore after restore\n",
      "            0.050 store after restore / 0.033 restore after store\n",
      "at 4 items: 0.100 store / 0.100 restore\n",
      "            0.083 store after store / 0.083 restore after restore\n",
      "            0.017 store after restore / 0.017 restore after store\n",
      "at 5 items: 0.067 store / 0.100 restore\n",
      "            0.067 store after store / 0.067 restore after restore\n",
      "            0.000 store after restore / 0.033 restore after store\n",
      "at 6 items: 0.000 store / 0.067 restore\n",
      "            0.000 store after store / 0.000 restore after restore\n",
      "            0.000 store after restore / 0.067 restore after store\n",
      "\n"
     ]
    }
   ],
   "source": [
    "# put the code into a python module, was too large to paste here\n",
    "from data_exploration_classes import Data, Statistics\n",
    "from problem_description_and_state import ProblemDescription\n",
    "\n",
    "pd = ProblemDescription(inventory_cols=3, inventory_rows=2)\n",
    "for input_filepath in ['data/3x2/warehousetraining.txt', 'data/3x2/warehouseorder.txt']:\n",
    "    data = Data(pd, input_filepath)\n",
    "    data.print_statistics()\n",
    "    print()"
   ]
  },
  {
   "cell_type": "markdown",
   "metadata": {},
   "source": [
    "### Comparison with Generated Data\n",
    "\n",
    "A request generator function with similar statistical properties as the training data has been developed. Comparison of requests in the training data with requests from the generator function helps to discover more properties in the data."
   ]
  },
  {
   "cell_type": "code",
   "execution_count": 2,
   "metadata": {},
   "outputs": [
    {
     "name": "stdout",
     "output_type": "stream",
     "text": [
      "generated data\n",
      "-----------------------------------------------------------\n",
      "100000 requests total\n",
      "50002 store requests, 49998 restore requests\n",
      "41617 requests (0.42) with the same verb as the one before\n",
      "min 0 / max 6 / avg 2.99 / final 4\n",
      "blue  min 0 / max 5 / avg 0.74 / final 1 / request share 0.25\n",
      "red   min 0 / max 6 / avg 1.50 / final 3 / request share 0.50\n",
      "white min 0 / max 5 / avg 0.74 / final 0 / request share 0.25\n",
      "at 0 items: 0.015 store / 0.000 restore\n",
      "            0.000 store after store / 0.000 restore after restore\n",
      "            0.015 store after restore / 0.000 restore after store\n",
      "at 1 items: 0.079 store / 0.015 restore\n",
      "            0.013 store after store / 0.013 restore after restore\n",
      "            0.067 store after restore / 0.003 restore after store\n",
      "at 2 items: 0.158 store / 0.079 restore\n",
      "            0.053 store after store / 0.053 restore after restore\n",
      "            0.105 store after restore / 0.026 restore after store\n",
      "at 3 items: 0.156 store / 0.158 restore\n",
      "            0.079 store after store / 0.079 restore after restore\n",
      "            0.078 store after restore / 0.079 restore after store\n",
      "at 4 items: 0.076 store / 0.156 restore\n",
      "            0.052 store after store / 0.052 restore after restore\n",
      "            0.025 store after restore / 0.105 restore after store\n",
      "at 5 items: 0.015 store / 0.076 restore\n",
      "            0.013 store after store / 0.013 restore after restore\n",
      "            0.002 store after restore / 0.064 restore after store\n",
      "at 6 items: 0.000 store / 0.015 restore\n",
      "            0.000 store after store / 0.000 restore after restore\n",
      "            0.000 store after restore / 0.015 restore after store\n"
     ]
    }
   ],
   "source": [
    "from data_exploration_classes import GeneratedData\n",
    "\n",
    "data = GeneratedData(pd)\n",
    "data.print_statistics()"
   ]
  },
  {
   "cell_type": "markdown",
   "metadata": {},
   "source": [
    "Discovering sequential patterns in the data is more complicated:"
   ]
  },
  {
   "cell_type": "code",
   "execution_count": 3,
   "metadata": {},
   "outputs": [
    {
     "name": "stdout",
     "output_type": "stream",
     "text": [
      "differences in length 2 pattern frequencies (by factor 1.25 or more) for verb only:\n",
      "s?-s?: 0.3384539 vs 0.2084900 expected (#: 4098 vs 2524 expected)\n",
      "s?-r?: 0.1615461 vs 0.2915200 expected (#: 1956 vs 3530 expected)\n",
      "r?-s?: 0.1614635 vs 0.2915100 expected (#: 1955 vs 3530 expected)\n",
      "r?-r?: 0.3384539 vs 0.2084700 expected (#: 4098 vs 2524 expected)\n",
      "\n",
      "differences in length 3 pattern frequencies (by factor 1.25 or more) for verb only:\n",
      "s?-s?-s?: 0.2073835 vs 0.0699100 expected (#: 2511 vs 846 expected)\n",
      "s?-r?-s?: 0.0322927 vs 0.1518000 expected (#: 391 vs 1838 expected)\n",
      "r?-s?-r?: 0.0304757 vs 0.1529400 expected (#: 369 vs 1852 expected)\n",
      "r?-r?-r?: 0.2092005 vs 0.0687500 expected (#: 2533 vs 832 expected)\n",
      "\n",
      "differences in length 4 pattern frequencies (by factor 1.25 or more) for verb only:\n",
      "s?-s?-s?-s?: 0.1124050 vs 0.0177800 expected (#: 1361 vs 215 expected)\n",
      "s?-s?-s?-r?: 0.0949785 vs 0.0521300 expected (#: 1150 vs 631 expected)\n",
      "s?-s?-r?-s?: 0.0219689 vs 0.0637400 expected (#: 266 vs 772 expected)\n",
      "s?-s?-r?-r?: 0.1091014 vs 0.0748400 expected (#: 1321 vs 906 expected)\n",
      "s?-s?-??-s?: 0.1343740 vs 0.0815200 expected (#: 1627 vs 987 expected)\n",
      "s?-s?-??-r?: 0.2040799 vs 0.1269700 expected (#: 2471 vs 1537 expected)\n",
      "s?-r?-s?-s?: 0.0210605 vs 0.0633100 expected (#: 255 vs 767 expected)\n",
      "s?-r?-s?-r?: 0.0112322 vs 0.0884900 expected (#: 136 vs 1071 expected)\n",
      "s?-r?-r?-s?: 0.0332838 vs 0.0884000 expected (#: 403 vs 1070 expected)\n",
      "s?-r?-r?-r?: 0.0959696 vs 0.0513100 expected (#: 1162 vs 621 expected)\n",
      "s?-r?-??-s?: 0.0543442 vs 0.1517100 expected (#: 658 vs 1837 expected)\n",
      "s?-r?-??-r?: 0.1072019 vs 0.1398000 expected (#: 1298 vs 1693 expected)\n",
      "s?-??-s?-s?: 0.1334655 vs 0.0810900 expected (#: 1616 vs 982 expected)\n",
      "s?-??-s?-r?: 0.1062108 vs 0.1406200 expected (#: 1286 vs 1703 expected)\n",
      "s?-??-r?-s?: 0.0552527 vs 0.1521400 expected (#: 669 vs 1842 expected)\n",
      "s?-??-r?-r?: 0.2050710 vs 0.1261500 expected (#: 2483 vs 1527 expected)\n",
      "r?-s?-s?-s?: 0.0948959 vs 0.0521200 expected (#: 1149 vs 631 expected)\n",
      "r?-s?-s?-r?: 0.0360918 vs 0.0864500 expected (#: 437 vs 1047 expected)\n",
      "r?-s?-r?-s?: 0.0103238 vs 0.0880600 expected (#: 125 vs 1066 expected)\n",
      "r?-s?-r?-r?: 0.0201520 vs 0.0648800 expected (#: 244 vs 786 expected)\n",
      "r?-s?-??-s?: 0.1052197 vs 0.1401800 expected (#: 1274 vs 1697 expected)\n",
      "r?-s?-??-r?: 0.0562438 vs 0.1513300 expected (#: 681 vs 1832 expected)\n",
      "r?-r?-s?-s?: 0.1099273 vs 0.0752600 expected (#: 1331 vs 911 expected)\n",
      "r?-r?-s?-r?: 0.0192435 vs 0.0644500 expected (#: 233 vs 780 expected)\n",
      "r?-r?-r?-s?: 0.0958870 vs 0.0513100 expected (#: 1161 vs 621 expected)\n",
      "r?-r?-r?-r?: 0.1132309 vs 0.0174400 expected (#: 1371 vs 211 expected)\n",
      "r?-r?-??-s?: 0.2058143 vs 0.1265700 expected (#: 2492 vs 1533 expected)\n",
      "r?-r?-??-r?: 0.1324744 vs 0.0818900 expected (#: 1604 vs 992 expected)\n",
      "r?-??-s?-s?: 0.2048233 vs 0.1273800 expected (#: 2480 vs 1542 expected)\n",
      "r?-??-s?-r?: 0.0553353 vs 0.1509000 expected (#: 670 vs 1827 expected)\n",
      "r?-??-r?-s?: 0.1062108 vs 0.1393700 expected (#: 1286 vs 1687 expected)\n",
      "r?-??-r?-r?: 0.1333829 vs 0.0823200 expected (#: 1615 vs 997 expected)\n",
      "\n"
     ]
    }
   ],
   "source": [
    "from data_exploration_classes import PatternAnalysis\n",
    "data = Data(pd, 'data/3x2/warehousetraining.txt')\n",
    "ref_data = GeneratedData(pd)\n",
    "# looking for patterns in the verbs of request sequences\n",
    "for pattern_length in [2, 3, 4]:\n",
    "    pa_from_training_data = PatternAnalysis(pd, data, pattern_length, use_verb=True, use_color=False)\n",
    "    pa_from_generated_data = PatternAnalysis(pd, ref_data, pattern_length, use_verb=True, use_color=False)\n",
    "    pa_from_training_data.compare(pa_from_generated_data, prob_ratio_threshold=1.25)\n",
    "    print()"
   ]
  },
  {
   "cell_type": "markdown",
   "metadata": {},
   "source": [
    "This suggests that store-store-store and restore-restore-restore patterns occur in the training data much more often than in the generated data. Also, store-restore-store and restore-store-restore pattern occur much less often. The output for pattern length 4 confirms that the pattern is limited to length 3.\n",
    "\n",
    "Looking for sequential patterns in the colors of request sequences, or for verb-color combinations, did not yield any results."
   ]
  },
  {
   "cell_type": "markdown",
   "metadata": {},
   "source": [
    "## Analysis Results (for 3x2)\n",
    "\n",
    "* input data is well-formed\n",
    "  * inventory count is always between 0 and 6\n",
    "  * starting and ending with 0\n",
    "  * no requests for inventory items which it does not have\n",
    "  * consequence: store requests are more likely at low inventory count, restore requests are more likely at high inventory count\n",
    "* red is twice as likely as blue or white\n",
    "* there is a sequential pattern in the data where a verb is repeated three times\n",
    "* alternating verbs over 3 requests are much less likely (\"negative pattern\"?)"
   ]
  },
  {
   "cell_type": "code",
   "execution_count": null,
   "metadata": {},
   "outputs": [],
   "source": []
  }
 ],
 "metadata": {
  "kernelspec": {
   "display_name": "Python 3",
   "language": "python",
   "name": "python3"
  },
  "language_info": {
   "codemirror_mode": {
    "name": "ipython",
    "version": 3
   },
   "file_extension": ".py",
   "mimetype": "text/x-python",
   "name": "python",
   "nbconvert_exporter": "python",
   "pygments_lexer": "ipython3",
   "version": "3.7.3"
  }
 },
 "nbformat": 4,
 "nbformat_minor": 2
}
